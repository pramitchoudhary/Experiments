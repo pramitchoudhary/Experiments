{
 "cells": [
  {
   "cell_type": "code",
   "execution_count": 90,
   "metadata": {
    "collapsed": true
   },
   "outputs": [],
   "source": [
    "import numpy as np\n",
    "import pandas\n",
    "from scipy import stats\n",
    "import queue as Q\n",
    "\n",
    "class Oracle:\n",
    "    \"\"\" Responsibilities\n",
    "    1. To determine the class label for network's training examples\n",
    "    2. To select split for each of the tree's internal nodes\n",
    "    3. To determine, if the node covers instances of only one class\n",
    "    \"\"\"    \n",
    "    \n",
    "    def __init__(self, estimator, num_classes):\n",
    "        self.estimator = estimator\n",
    "        self.num_classes = num_classes\n",
    "\n",
    "    def setDistributions(self, X):\n",
    "        self.distributions =[]\n",
    "        # 1. Kernel density estimate for Continuous features\n",
    "        # 2. empirical estimate for discrete features\n",
    "        # only consider continuous distributions\n",
    "        self.dimension= X.shape[1]\n",
    "        for i in range(0,self.dimension):\n",
    "            values = X[:,i].reshape(X.shape[0])\n",
    "            kernel = stats.gaussian_kde(values, bw_method='silverman')\n",
    "            # print(kernel)\n",
    "            # print(kernel.resample(1))\n",
    "            self.distributions.append(kernel)\n",
    "\n",
    "            \n",
    "    def predict(self, example):\n",
    "        value = self.estimator.predict(example)\n",
    "        return value\n",
    "\n",
    "    \n",
    "# \tdef oracle_constraints(self,constraints,n):\n",
    "# \t\t#read each constraint\n",
    "# \t\tX_examples= np.zeros((n,self.dimension))\n",
    "# \t\tlab_examples = np.zeros(n)\n",
    "# \t\tnum_valid=0\n",
    "# \t\tprint(n)\n",
    "# \t\twhile(num_valid<n):\n",
    "# \t\t\tsample=self.genSample(constraints)\n",
    "# \t\t\tlabel=self.oracle_example(sample)\n",
    "# \t\t\tX_examples[num_valid,:]=sample\n",
    "# \t\t\tlab_examples[num_valid]=label\n",
    "# \t\t\tnum_valid+=1\n",
    "# \t\t\t# print(num_valid)\n",
    "\t\t\t\t\t\t\t\t\t\t\t\n",
    "# \t\treturn (X_examples,lab_examples)\n",
    "\n",
    "# \t#can be more efficient\n",
    "# \tdef genSample(self,constraints):\n",
    "# \t\tsample = np.zeros(self.dimension)\n",
    "# \t\t#assuming features have independent distributions\n",
    "# \t\tfor i in range(0,self.dimension):\n",
    "# \t\t\t# print(i)\n",
    "# \t\t\tdone=False\n",
    "# \t\t\twhile not done :\n",
    "# \t\t\t\t# print(\"THIS IS I :\" +str(i))\n",
    "# \t\t\t\tmin_val = constraints.min_val(i)\n",
    "# \t\t\t\tmax_val = constraints.max_val(i)\n",
    "# \t\t\t\tsample[i]=self.distributions[i].resample(1)[0]\n",
    "# \t\t\t\tif sample[i] > min_val and sample[i] < max_val :\n",
    "# \t\t\t\t\tdone=True\n",
    "# \t\treturn sample\n",
    "\n",
    "# \tdef validSample(self,sample,constraints):\n",
    "# \t\tfor cons in constraints:\n",
    "# \t\t\t(satisfied,splitrule)=cons\n",
    "# \t\t\tif satisfied!=splitrule.satisfied(sample):\n",
    "# \t\t\t\t# print(\"REJECTED\")\n",
    "# \t\t\t\treturn False\n",
    "# \t\tprint(\"ACCEPTED\")\n",
    "# \t\treturn True"
   ]
  },
  {
   "cell_type": "code",
   "execution_count": 62,
   "metadata": {
    "collapsed": true
   },
   "outputs": [],
   "source": [
    "class SplitRule:\n",
    "\t#<= is left , > is right\n",
    "\t#m of n split\n",
    "\n",
    "\tdef __init__(self,splits,m,n):\n",
    "\t\tself.splits=splits\n",
    "\t\tself.m=m\n",
    "\t\tself.n=n\n",
    "\t\tself.op_dict= {\"gte\":self.gte,\"lte\":self.lte}\n",
    "\t\tself.processSplits()\n",
    "\n",
    "\n",
    "\tdef processSplits(self):\n",
    "\t\tself.max_dict={}\n",
    "\t\tself.min_dict={}\n",
    "\t\tfor (attr,op_string,val) in self.splits:\n",
    "\t\t\tif op_string in [\"lte\" ,\"lt\"]:\n",
    "\t\t\t\tif attr not in self.max_dict:\n",
    "\t\t\t\t\tself.max_dict[attr]=val\n",
    "\t\t\t\tself.max_dict[attr] = max(self.max_dict[attr],val)\n",
    "\t\t\telif op_string in [\"gte\",\"gt\"]:\n",
    "\t\t\t\tif attr not in self.min_dict:\n",
    "\t\t\t\t\tself.min_dict[attr]=val\n",
    "\t\t\t\tself.min_dict[attr] = min(self.min_dict[attr],val)\n",
    "\n",
    "\t#for building constraints\n",
    "\tdef invert(self):\n",
    "\t\tsplits2= []\n",
    "\t\tinverse = {\"gte\":\"lt\",\"gt\":\"lte\",\"lte\":\"gt\",\"lt\":\"gte\"}\n",
    "\t\tfor (attr,op_string,val) in self.splits:\n",
    "\t\t\top_string=inverse[op_string]\n",
    "\t\t\tsplits2.append((attr,op_string,val))\n",
    "\t\ts2 = SplitRule(splits2,self.m,self.n)\n",
    "\t\treturn s2\n",
    "\n",
    "\n",
    "\tdef gte(self,arg1, arg2):\n",
    "\t\treturn arg1 >= arg2\n",
    "\tdef lte(self,arg1, arg2):\n",
    "\t\treturn arg1 <= arg2\n",
    "\tdef lt(self,arg1,arg2):\n",
    "\t\treturn arg1 < arg2\n",
    "\tdef gt(self,arg1,arg2):\n",
    "\t\treturn arg1 > arg2\n",
    "\n",
    "\tdef satisfied(self,sample):\n",
    "\t\tsat=0\n",
    "\n",
    "\t\tfor split in self.splits:\n",
    "\t\t\t(attr,op_string,val)=split\n",
    "\t\t\top = self.op_dict[op_string]\n",
    "\t\t\tif op(sample[attr],val):\n",
    "\t\t\t\tsat+=1\n",
    "\t\t\t# print(attr,val)\n",
    "\t\t\t# print(sample[attr])\n",
    "\t\tif sat < self.m:\n",
    "\t\t\treturn False\n",
    "\t\telse:\n",
    "\t\t\treturn True\n",
    "\n",
    "\tdef max_val(self,dim):\n",
    "\t\tif dim in self.max_dict :\n",
    "\t\t\treturn self.max_dict[dim]\n",
    "\t\telse :\n",
    "\t\t\treturn np.inf\n",
    "\tdef min_val(self,dim):\n",
    "\t\tif dim in self.min_dict:\n",
    "\t\t\treturn self.min_dict[dim]\n",
    "\t\telse :\n",
    "\t\t\treturn -np.inf"
   ]
  },
  {
   "cell_type": "code",
   "execution_count": 144,
   "metadata": {
    "collapsed": true
   },
   "outputs": [],
   "source": [
    "class Node:\n",
    "    def __init__(self, training_set, y_hat, total_size):\n",
    "        self.leaf=True\n",
    "        self.left=None\n",
    "        self.right=None\n",
    "        self.split_rule=None\n",
    "        self.num_examples= training_set[0].shape[0]\n",
    "\n",
    "        if self.num_examples==0:\n",
    "            self.priority=0\n",
    "            print(\"NEW NODE! with priority = \"+ str(self.priority))\n",
    "            return\n",
    "\n",
    "        self.dominant = self.getDominantClass(training_set[1])\n",
    "        self.misclassified=self.getMisclassified(training_set[1], y_hat)\n",
    "        self.fidelity = 1 - (float(self.misclassified)/self.num_examples)\n",
    "        self.reach = float(self.num_examples)/total_size\n",
    "        self.priority = (-1)*self.reach* (1 - self.fidelity)\n",
    "        # print(self.fidelity,self.reach,self.num_examples)\n",
    "        print(\"NEW NODE! with priority = \"+ str(self.priority))\n",
    "\n",
    "        \n",
    "    def getDominantClass(self, y):\n",
    "        labels = np.unique(y)\n",
    "        label_summary = {}\n",
    "        for label in labels:\n",
    "            label_summary[label] = len(y[y == label])\n",
    "        return max(label_summary.items(), key=operator.itemgetter(1))[0]\n",
    "    \n",
    "    \n",
    "    def getMisclassified(self, y, y_hat):\n",
    "        in_correct_prediction = np.where(y_hat != y)\n",
    "        return len(in_correct_prediction)\n",
    "\n",
    "    \n",
    "#     def classify(self,sample):\n",
    "#         if self.leaf :\n",
    "#             return self.dominant\n",
    "#         if self.splitrule.satisfied(sample):\n",
    "#             return self.left.classify(sample)\n",
    "#         else:\n",
    "#             return self.right.classify(sample)"
   ]
  },
  {
   "cell_type": "code",
   "execution_count": 160,
   "metadata": {
    "collapsed": true
   },
   "outputs": [],
   "source": [
    "class Constraints :\n",
    "\n",
    "    def __init__(self, num_dim):\n",
    "        # self.cons_list=[]\n",
    "        self.num_dim = num_dim\n",
    "        self.max_list = np.zeros(num_dim)\n",
    "        self.min_list = np.zeros(num_dim)\n",
    "\n",
    "    def addRule(self, split):\n",
    "        for i in range(0, self.num_dim):\n",
    "            self.max_list[i]=max(self.max_list[i], split.max_val(i))\n",
    "            self.min_list[i]=min(self.min_list[i], split.min_val(i))\n",
    "\n",
    "    def max_val(self,dim):\n",
    "        return self.max_list[dim]\n",
    "\n",
    "    def min_val(self, dim):\n",
    "        return self.min_list[dim]\n",
    "\n",
    "    def copy(self):\n",
    "        c = Constraints(self.num_dim)\n",
    "        c.max_list=np.copy(self.max_list)\n",
    "        c.min_list=np.copy(self.min_list)\n",
    "        return c"
   ]
  },
  {
   "cell_type": "code",
   "execution_count": 181,
   "metadata": {
    "collapsed": true
   },
   "outputs": [],
   "source": [
    "def entropy(counts, n):\n",
    "    res=0\n",
    "    for key in counts:\n",
    "        c = counts[key]\n",
    "        if (c==0):\n",
    "            continue\n",
    "        p = float(c)/n\n",
    "        # print(p)\n",
    "        res-=p*np.log2(p)\n",
    "\n",
    "    return res\n",
    "\n",
    "def entropy_2(label_dict):\n",
    "    probabilities = [n_x/len(s) for x, n_x in label_dict]"
   ]
  },
  {
   "cell_type": "code",
   "execution_count": 225,
   "metadata": {
    "collapsed": true
   },
   "outputs": [],
   "source": [
    "def mutual_information(X, y):\n",
    "    gains = np.zeros(X.shape)\n",
    "    n = X.shape[0]\n",
    "    ind_array = np.argsort(X)\n",
    "    labels, counts = np.unique(y, return_counts=True)\n",
    "    lcounts={}\n",
    "    rcounts={}\n",
    "    if (X.shape[0]!=y.shape[0]):\n",
    "        print(\"ERROR \")\n",
    "\n",
    "    for i in range(0,labels.shape[0]):\n",
    "        lcounts[labels[i]]=counts[i]\n",
    "        rcounts[labels[i]]=0\n",
    "\n",
    "    e_parent = entropy(lcounts,n)\n",
    "    temp = np.zeros((n,1))\n",
    "    j=0\n",
    "    prev=-1\n",
    "    #process in reverse, to deal with identical values\n",
    "    for i in reversed(ind_array):\n",
    "        print('index:{}'.format(i))\n",
    "        lab = y[i]\n",
    "        print(lab)\n",
    "        # print(lcounts)\n",
    "        # print(rcounts)\n",
    "        #fixed error in iterative loading, didn't consider the case that many \n",
    "        #indices can lead to same split\n",
    "        if (prev >=0 and X.iloc[prev]==X.iloc[i]):\n",
    "            gains[i]=gains[prev]\n",
    "            j+=1\n",
    "            rcounts[lab]+=1\n",
    "            lcounts[lab]-=1\t\n",
    "            continue\n",
    "        prev=i\n",
    "\n",
    "        f_r=(float(j)/n)\n",
    "        f_l=1-f_r\n",
    "        e_r=f_r *entropy(rcounts,n)\n",
    "        e_l =f_l* entropy(lcounts,n) #weighted entropies\n",
    "        gains[i]= e_parent-(e_l+e_r)\n",
    "        temp[i]=j\n",
    "        j+=1\n",
    "\n",
    "        rcounts[lab]+=1\n",
    "        lcounts[lab]-=1\n",
    "\n",
    "\n",
    "#         if printnow  and j==n:\n",
    "#             print (str(i) + \" : LEFT \"+ str(f_l*entropy(lcounts,n))+\" RIGHT \"+str(f_r*entropy(rcounts,n)))\n",
    "#             pdb.set_trace()\n",
    "#             entropy(lcounts,n)\n",
    "#             print( \"PROBS : \"+str(f_l)+\" : \"+str(f_r))\n",
    "#             print(\"GAIN : \"+str(gains[i]))\n",
    "    return gains\n",
    "\n",
    "\n",
    "# usual c4.5 split only for now\n",
    "def bestMofNSplit(examples):\n",
    "    (X, labels) = examples\n",
    "    n_rows = X.shape[0]\n",
    "    dim = X.shape[1]\n",
    "    print(\"SPLITTING \"+str(n)+\" EXAMPLES\")\n",
    "    gains = np.zeros((n_rows, dim))\n",
    "    for i in range(0, dim):\n",
    "        gains[:,i] = mutual_information(X[:,i],labels)\n",
    "    split_point = np.unravel_index(np.argmax(gains),gains.shape)\n",
    "    if (np.max(gains)<1e-6):\n",
    "        return None\n",
    "    # print(split_point)\n",
    "    # print(gains[split_point])\n",
    "    srule= SplitRule([(split_point[1], \"lte\", X[split_point])], 1, 1)\n",
    "    return srule\n",
    "\n",
    "\n",
    "# def partition(examples,srule):\n",
    "# \t(X,Y) = examples\n",
    "# \tn = X.shape[0]\n",
    "# \t# print(X[1:5,:])\n",
    "# \tel=[]\n",
    "# \ter=[]\n",
    "# \tfor i in range(0,n):\n",
    "# \t\tif srule.satisfied(X[i,:]):\n",
    "# \t\t\tel.append(i)\n",
    "# \t\telse:\n",
    "# \t\t\ter.append(i)\n",
    "# \tprint(len(el))\n",
    "# \tprint(len(er))\n",
    "# \texamples_l = (X[el,:],Y[el])\n",
    "# \texamples_r = (X[er,:],Y[er])\n",
    "\n",
    "# \treturn examples_l,examples_r"
   ]
  },
  {
   "cell_type": "code",
   "execution_count": 70,
   "metadata": {},
   "outputs": [
    {
     "name": "stdout",
     "output_type": "stream",
     "text": [
      "150\n"
     ]
    }
   ],
   "source": [
    "from sklearn.ensemble import RandomForestClassifier\n",
    "from sklearn.datasets import load_iris\n",
    "import pandas as pd\n",
    "import numpy as np\n",
    "\n",
    "iris = load_iris()\n",
    "\n",
    "# Create a dataframe with the four feature variables\n",
    "df = pd.DataFrame(iris.data, columns=iris.feature_names)\n",
    "X = df\n",
    "y = iris.target\n",
    "print(len(y))"
   ]
  },
  {
   "cell_type": "code",
   "execution_count": 71,
   "metadata": {},
   "outputs": [
    {
     "name": "stderr",
     "output_type": "stream",
     "text": [
      "/home/ubuntu/anaconda3/lib/python3.6/site-packages/sklearn/ensemble/forest.py:453: UserWarning: Some inputs do not have OOB scores. This probably means too few trees were used to compute any reliable oob estimates.\n",
      "  warn(\"Some inputs do not have OOB scores. \"\n",
      "/home/ubuntu/anaconda3/lib/python3.6/site-packages/sklearn/ensemble/forest.py:458: RuntimeWarning: invalid value encountered in true_divide\n",
      "  predictions[k].sum(axis=1)[:, np.newaxis])\n"
     ]
    },
    {
     "data": {
      "text/plain": [
       "RandomForestClassifier(bootstrap=True, class_weight='balanced',\n",
       "            criterion='gini', max_depth=None, max_features='auto',\n",
       "            max_leaf_nodes=None, min_impurity_decrease=0.0,\n",
       "            min_impurity_split=None, min_samples_leaf=1,\n",
       "            min_samples_split=2, min_weight_fraction_leaf=0.0,\n",
       "            n_estimators=5, n_jobs=1, oob_score=True, random_state=1,\n",
       "            verbose=0, warm_start=False)"
      ]
     },
     "execution_count": 71,
     "metadata": {},
     "output_type": "execute_result"
    }
   ],
   "source": [
    "# Train and test split\n",
    "from sklearn.model_selection import train_test_split\n",
    "X_train, X_test, y_train, y_test = train_test_split(X, y, test_size=0.33, random_state=42)\n",
    "\n",
    "clf = RandomForestClassifier(n_estimators=5, class_weight=\"balanced\", oob_score=True, random_state=1)\n",
    "clf.fit(X, y)"
   ]
  },
  {
   "cell_type": "code",
   "execution_count": 247,
   "metadata": {},
   "outputs": [
    {
     "data": {
      "text/plain": [
       "(<1x87 sparse matrix of type '<class 'numpy.int64'>'\n",
       " \twith 14 stored elements in Compressed Sparse Row format>,\n",
       " array([ 0, 25, 36, 51, 70, 87]))"
      ]
     },
     "execution_count": 247,
     "metadata": {},
     "output_type": "execute_result"
    }
   ],
   "source": [
    "clf.predict(X.iloc[0:1])\n",
    "\n",
    "# Decision Path\n",
    "clf.decision_path(X.iloc[0:1])"
   ]
  },
  {
   "cell_type": "code",
   "execution_count": 251,
   "metadata": {},
   "outputs": [
    {
     "data": {
      "text/plain": [
       "array([0, 1, 2])"
      ]
     },
     "execution_count": 251,
     "metadata": {},
     "output_type": "execute_result"
    }
   ],
   "source": [
    "y_hat = clf.predict(X_test)\n",
    "np.unique(y_hat)"
   ]
  },
  {
   "cell_type": "code",
   "execution_count": 253,
   "metadata": {},
   "outputs": [
    {
     "name": "stdout",
     "output_type": "stream",
     "text": [
      "\n",
      "--------Test dataset classification report----------\n",
      "\n",
      "             precision    recall  f1-score   support\n",
      "\n",
      "    class 0       1.00      1.00      1.00        19\n",
      "    class 1       1.00      1.00      1.00        15\n",
      "    class 2       1.00      1.00      1.00        16\n",
      "\n",
      "avg / total       1.00      1.00      1.00        50\n",
      "\n"
     ]
    }
   ],
   "source": [
    "from sklearn.model_selection import train_test_split\n",
    "from sklearn.metrics import classification_report\n",
    "\n",
    "print(\"\\n--------Test dataset classification report----------\\n\")\n",
    "target_names = ['class 0', 'class 1', 'class 2']\n",
    "print(classification_report(y_test, y_hat, target_names=target_names))"
   ]
  },
  {
   "cell_type": "code",
   "execution_count": 260,
   "metadata": {},
   "outputs": [
    {
     "data": {
      "text/plain": [
       "DecisionTreeClassifier(class_weight=None, criterion='gini', max_depth=None,\n",
       "            max_features=None, max_leaf_nodes=None,\n",
       "            min_impurity_decrease=0.0, min_impurity_split=None,\n",
       "            min_samples_leaf=1, min_samples_split=2,\n",
       "            min_weight_fraction_leaf=0.0, presort=False, random_state=0,\n",
       "            splitter='best')"
      ]
     },
     "execution_count": 260,
     "metadata": {},
     "output_type": "execute_result"
    }
   ],
   "source": [
    "from sklearn.tree import DecisionTreeClassifier\n",
    "\n",
    "explainer = DecisionTreeClassifier(random_state=0)\n",
    "explainer.fit(X_test, y_hat)"
   ]
  },
  {
   "cell_type": "code",
   "execution_count": 261,
   "metadata": {},
   "outputs": [
    {
     "name": "stdout",
     "output_type": "stream",
     "text": [
      "\n",
      "-------- Test dataset classification report on Surrogate ----------\n",
      "\n",
      "             precision    recall  f1-score   support\n",
      "\n",
      "    class 0       1.00      1.00      1.00        19\n",
      "    class 1       1.00      1.00      1.00        15\n",
      "    class 2       1.00      1.00      1.00        16\n",
      "\n",
      "avg / total       1.00      1.00      1.00        50\n",
      "\n"
     ]
    }
   ],
   "source": [
    "y_hat_surrogate = explainer.predict(X_test)\n",
    "print(\"\\n-------- Test dataset classification report on Surrogate ----------\\n\")\n",
    "target_names = ['class 0', 'class 1', 'class 2']\n",
    "print(classification_report(y_hat, y_hat_surrogate, target_names=target_names))"
   ]
  },
  {
   "cell_type": "code",
   "execution_count": 263,
   "metadata": {},
   "outputs": [],
   "source": [
    "from sklearn.externals.six import StringIO  \n",
    "from IPython.display import Image  \n",
    "from sklearn.tree import export_graphviz\n",
    "import pydotplus\n",
    "\n",
    "dot_data = StringIO()\n",
    "export_graphviz(explainer, out_file=dot_data,  \n",
    "                filled=True, rounded=True,\n",
    "                special_characters=True, feature_names=iris.feature_names, class_names=iris.target_names)\n",
    "\n",
    "graph = pydotplus.graph_from_dot_data(dot_data.getvalue())"
   ]
  },
  {
   "cell_type": "code",
   "execution_count": 264,
   "metadata": {},
   "outputs": [
    {
     "data": {
      "image/png": "[encoded data removed]",
      "text/plain": [
       "<IPython.core.display.Image object>"
      ]
     },
     "execution_count": 264,
     "metadata": {},
     "output_type": "execute_result"
    }
   ],
   "source": [
    "from IPython.display import Image\n",
    "Image(graph.create_png())"
   ]
  },
  {
   "cell_type": "code",
   "execution_count": 241,
   "metadata": {},
   "outputs": [
    {
     "ename": "ValueError",
     "evalue": "Found array with 0 sample(s) (shape=(0, 1)) while a minimum of 1 is required.",
     "output_type": "error",
     "traceback": [
      "\u001b[0;31m---------------------------------------------------------------------------\u001b[0m",
      "\u001b[0;31mValueError\u001b[0m                                Traceback (most recent call last)",
      "\u001b[0;32m<ipython-input-241-3836f913d2fc>\u001b[0m in \u001b[0;36m<module>\u001b[0;34m()\u001b[0m\n\u001b[1;32m      1\u001b[0m \u001b[0;32mfrom\u001b[0m \u001b[0msklearn\u001b[0m\u001b[0;34m.\u001b[0m\u001b[0mfeature_selection\u001b[0m \u001b[0;32mimport\u001b[0m \u001b[0mmutual_info_classif\u001b[0m\u001b[0;34m\u001b[0m\u001b[0m\n\u001b[1;32m      2\u001b[0m \u001b[0;34m\u001b[0m\u001b[0m\n\u001b[0;32m----> 3\u001b[0;31m \u001b[0mfeature_scores\u001b[0m \u001b[0;34m=\u001b[0m \u001b[0mmutual_info_classif\u001b[0m\u001b[0;34m(\u001b[0m\u001b[0mX_train\u001b[0m\u001b[0;34m.\u001b[0m\u001b[0miloc\u001b[0m\u001b[0;34m[\u001b[0m\u001b[0;36m0\u001b[0m\u001b[0;34m:\u001b[0m\u001b[0;36m1\u001b[0m\u001b[0;34m]\u001b[0m\u001b[0;34m,\u001b[0m \u001b[0my_train\u001b[0m\u001b[0;34m[\u001b[0m\u001b[0;36m0\u001b[0m\u001b[0;34m:\u001b[0m\u001b[0;36m1\u001b[0m\u001b[0;34m]\u001b[0m\u001b[0;34m)\u001b[0m\u001b[0;34m\u001b[0m\u001b[0m\n\u001b[0m\u001b[1;32m      4\u001b[0m \u001b[0mfeature_scores\u001b[0m\u001b[0;34m\u001b[0m\u001b[0m\n",
      "\u001b[0;32m~/anaconda3/lib/python3.6/site-packages/sklearn/feature_selection/mutual_info_.py\u001b[0m in \u001b[0;36mmutual_info_classif\u001b[0;34m(X, y, discrete_features, n_neighbors, copy, random_state)\u001b[0m\n\u001b[1;32m    448\u001b[0m     \u001b[0mcheck_classification_targets\u001b[0m\u001b[0;34m(\u001b[0m\u001b[0my\u001b[0m\u001b[0;34m)\u001b[0m\u001b[0;34m\u001b[0m\u001b[0m\n\u001b[1;32m    449\u001b[0m     return _estimate_mi(X, y, discrete_features, True, n_neighbors,\n\u001b[0;32m--> 450\u001b[0;31m                         copy, random_state)\n\u001b[0m",
      "\u001b[0;32m~/anaconda3/lib/python3.6/site-packages/sklearn/feature_selection/mutual_info_.py\u001b[0m in \u001b[0;36m_estimate_mi\u001b[0;34m(X, y, discrete_features, discrete_target, n_neighbors, copy, random_state)\u001b[0m\n\u001b[1;32m    287\u001b[0m \u001b[0;34m\u001b[0m\u001b[0m\n\u001b[1;32m    288\u001b[0m     mi = [_compute_mi(x, y, discrete_feature, discrete_target, n_neighbors) for\n\u001b[0;32m--> 289\u001b[0;31m           x, discrete_feature in moves.zip(_iterate_columns(X), discrete_mask)]\n\u001b[0m\u001b[1;32m    290\u001b[0m \u001b[0;34m\u001b[0m\u001b[0m\n\u001b[1;32m    291\u001b[0m     \u001b[0;32mreturn\u001b[0m \u001b[0mnp\u001b[0m\u001b[0;34m.\u001b[0m\u001b[0marray\u001b[0m\u001b[0;34m(\u001b[0m\u001b[0mmi\u001b[0m\u001b[0;34m)\u001b[0m\u001b[0;34m\u001b[0m\u001b[0m\n",
      "\u001b[0;32m~/anaconda3/lib/python3.6/site-packages/sklearn/feature_selection/mutual_info_.py\u001b[0m in \u001b[0;36m<listcomp>\u001b[0;34m(.0)\u001b[0m\n\u001b[1;32m    287\u001b[0m \u001b[0;34m\u001b[0m\u001b[0m\n\u001b[1;32m    288\u001b[0m     mi = [_compute_mi(x, y, discrete_feature, discrete_target, n_neighbors) for\n\u001b[0;32m--> 289\u001b[0;31m           x, discrete_feature in moves.zip(_iterate_columns(X), discrete_mask)]\n\u001b[0m\u001b[1;32m    290\u001b[0m \u001b[0;34m\u001b[0m\u001b[0m\n\u001b[1;32m    291\u001b[0m     \u001b[0;32mreturn\u001b[0m \u001b[0mnp\u001b[0m\u001b[0;34m.\u001b[0m\u001b[0marray\u001b[0m\u001b[0;34m(\u001b[0m\u001b[0mmi\u001b[0m\u001b[0;34m)\u001b[0m\u001b[0;34m\u001b[0m\u001b[0m\n",
      "\u001b[0;32m~/anaconda3/lib/python3.6/site-packages/sklearn/feature_selection/mutual_info_.py\u001b[0m in \u001b[0;36m_compute_mi\u001b[0;34m(x, y, x_discrete, y_discrete, n_neighbors)\u001b[0m\n\u001b[1;32m    159\u001b[0m         \u001b[0;32mreturn\u001b[0m \u001b[0m_compute_mi_cd\u001b[0m\u001b[0;34m(\u001b[0m\u001b[0my\u001b[0m\u001b[0;34m,\u001b[0m \u001b[0mx\u001b[0m\u001b[0;34m,\u001b[0m \u001b[0mn_neighbors\u001b[0m\u001b[0;34m)\u001b[0m\u001b[0;34m\u001b[0m\u001b[0m\n\u001b[1;32m    160\u001b[0m     \u001b[0;32melif\u001b[0m \u001b[0;32mnot\u001b[0m \u001b[0mx_discrete\u001b[0m \u001b[0;32mand\u001b[0m \u001b[0my_discrete\u001b[0m\u001b[0;34m:\u001b[0m\u001b[0;34m\u001b[0m\u001b[0m\n\u001b[0;32m--> 161\u001b[0;31m         \u001b[0;32mreturn\u001b[0m \u001b[0m_compute_mi_cd\u001b[0m\u001b[0;34m(\u001b[0m\u001b[0mx\u001b[0m\u001b[0;34m,\u001b[0m \u001b[0my\u001b[0m\u001b[0;34m,\u001b[0m \u001b[0mn_neighbors\u001b[0m\u001b[0;34m)\u001b[0m\u001b[0;34m\u001b[0m\u001b[0m\n\u001b[0m\u001b[1;32m    162\u001b[0m     \u001b[0;32melse\u001b[0m\u001b[0;34m:\u001b[0m\u001b[0;34m\u001b[0m\u001b[0m\n\u001b[1;32m    163\u001b[0m         \u001b[0;32mreturn\u001b[0m \u001b[0m_compute_mi_cc\u001b[0m\u001b[0;34m(\u001b[0m\u001b[0mx\u001b[0m\u001b[0;34m,\u001b[0m \u001b[0my\u001b[0m\u001b[0;34m,\u001b[0m \u001b[0mn_neighbors\u001b[0m\u001b[0;34m)\u001b[0m\u001b[0;34m\u001b[0m\u001b[0m\n",
      "\u001b[0;32m~/anaconda3/lib/python3.6/site-packages/sklearn/feature_selection/mutual_info_.py\u001b[0m in \u001b[0;36m_compute_mi_cd\u001b[0;34m(c, d, n_neighbors)\u001b[0m\n\u001b[1;32m    137\u001b[0m \u001b[0;34m\u001b[0m\u001b[0m\n\u001b[1;32m    138\u001b[0m     \u001b[0mnn\u001b[0m\u001b[0;34m.\u001b[0m\u001b[0mset_params\u001b[0m\u001b[0;34m(\u001b[0m\u001b[0malgorithm\u001b[0m\u001b[0;34m=\u001b[0m\u001b[0;34m'kd_tree'\u001b[0m\u001b[0;34m)\u001b[0m\u001b[0;34m\u001b[0m\u001b[0m\n\u001b[0;32m--> 139\u001b[0;31m     \u001b[0mnn\u001b[0m\u001b[0;34m.\u001b[0m\u001b[0mfit\u001b[0m\u001b[0;34m(\u001b[0m\u001b[0mc\u001b[0m\u001b[0;34m)\u001b[0m\u001b[0;34m\u001b[0m\u001b[0m\n\u001b[0m\u001b[1;32m    140\u001b[0m     \u001b[0mind\u001b[0m \u001b[0;34m=\u001b[0m \u001b[0mnn\u001b[0m\u001b[0;34m.\u001b[0m\u001b[0mradius_neighbors\u001b[0m\u001b[0;34m(\u001b[0m\u001b[0mradius\u001b[0m\u001b[0;34m=\u001b[0m\u001b[0mradius\u001b[0m\u001b[0;34m,\u001b[0m \u001b[0mreturn_distance\u001b[0m\u001b[0;34m=\u001b[0m\u001b[0;32mFalse\u001b[0m\u001b[0;34m)\u001b[0m\u001b[0;34m\u001b[0m\u001b[0m\n\u001b[1;32m    141\u001b[0m     \u001b[0mm_all\u001b[0m \u001b[0;34m=\u001b[0m \u001b[0mnp\u001b[0m\u001b[0;34m.\u001b[0m\u001b[0marray\u001b[0m\u001b[0;34m(\u001b[0m\u001b[0;34m[\u001b[0m\u001b[0mi\u001b[0m\u001b[0;34m.\u001b[0m\u001b[0msize\u001b[0m \u001b[0;32mfor\u001b[0m \u001b[0mi\u001b[0m \u001b[0;32min\u001b[0m \u001b[0mind\u001b[0m\u001b[0;34m]\u001b[0m\u001b[0;34m)\u001b[0m\u001b[0;34m\u001b[0m\u001b[0m\n",
      "\u001b[0;32m~/anaconda3/lib/python3.6/site-packages/sklearn/neighbors/base.py\u001b[0m in \u001b[0;36mfit\u001b[0;34m(self, X, y)\u001b[0m\n\u001b[1;32m    801\u001b[0m             \u001b[0;32mor\u001b[0m \u001b[0;34m[\u001b[0m\u001b[0mn_samples\u001b[0m\u001b[0;34m,\u001b[0m \u001b[0mn_samples\u001b[0m\u001b[0;34m]\u001b[0m \u001b[0;32mif\u001b[0m \u001b[0mmetric\u001b[0m\u001b[0;34m=\u001b[0m\u001b[0;34m'precomputed'\u001b[0m\u001b[0;34m.\u001b[0m\u001b[0;34m\u001b[0m\u001b[0m\n\u001b[1;32m    802\u001b[0m         \"\"\"\n\u001b[0;32m--> 803\u001b[0;31m         \u001b[0;32mreturn\u001b[0m \u001b[0mself\u001b[0m\u001b[0;34m.\u001b[0m\u001b[0m_fit\u001b[0m\u001b[0;34m(\u001b[0m\u001b[0mX\u001b[0m\u001b[0;34m)\u001b[0m\u001b[0;34m\u001b[0m\u001b[0m\n\u001b[0m",
      "\u001b[0;32m~/anaconda3/lib/python3.6/site-packages/sklearn/neighbors/base.py\u001b[0m in \u001b[0;36m_fit\u001b[0;34m(self, X)\u001b[0m\n\u001b[1;32m    202\u001b[0m             \u001b[0;32mreturn\u001b[0m \u001b[0mself\u001b[0m\u001b[0;34m\u001b[0m\u001b[0m\n\u001b[1;32m    203\u001b[0m \u001b[0;34m\u001b[0m\u001b[0m\n\u001b[0;32m--> 204\u001b[0;31m         \u001b[0mX\u001b[0m \u001b[0;34m=\u001b[0m \u001b[0mcheck_array\u001b[0m\u001b[0;34m(\u001b[0m\u001b[0mX\u001b[0m\u001b[0;34m,\u001b[0m \u001b[0maccept_sparse\u001b[0m\u001b[0;34m=\u001b[0m\u001b[0;34m'csr'\u001b[0m\u001b[0;34m)\u001b[0m\u001b[0;34m\u001b[0m\u001b[0m\n\u001b[0m\u001b[1;32m    205\u001b[0m \u001b[0;34m\u001b[0m\u001b[0m\n\u001b[1;32m    206\u001b[0m         \u001b[0mn_samples\u001b[0m \u001b[0;34m=\u001b[0m \u001b[0mX\u001b[0m\u001b[0;34m.\u001b[0m\u001b[0mshape\u001b[0m\u001b[0;34m[\u001b[0m\u001b[0;36m0\u001b[0m\u001b[0;34m]\u001b[0m\u001b[0;34m\u001b[0m\u001b[0m\n",
      "\u001b[0;32m~/anaconda3/lib/python3.6/site-packages/sklearn/utils/validation.py\u001b[0m in \u001b[0;36mcheck_array\u001b[0;34m(array, accept_sparse, dtype, order, copy, force_all_finite, ensure_2d, allow_nd, ensure_min_samples, ensure_min_features, warn_on_dtype, estimator)\u001b[0m\n\u001b[1;32m    460\u001b[0m                              \u001b[0;34m\" minimum of %d is required%s.\"\u001b[0m\u001b[0;34m\u001b[0m\u001b[0m\n\u001b[1;32m    461\u001b[0m                              % (n_samples, shape_repr, ensure_min_samples,\n\u001b[0;32m--> 462\u001b[0;31m                                 context))\n\u001b[0m\u001b[1;32m    463\u001b[0m \u001b[0;34m\u001b[0m\u001b[0m\n\u001b[1;32m    464\u001b[0m     \u001b[0;32mif\u001b[0m \u001b[0mensure_min_features\u001b[0m \u001b[0;34m>\u001b[0m \u001b[0;36m0\u001b[0m \u001b[0;32mand\u001b[0m \u001b[0marray\u001b[0m\u001b[0;34m.\u001b[0m\u001b[0mndim\u001b[0m \u001b[0;34m==\u001b[0m \u001b[0;36m2\u001b[0m\u001b[0;34m:\u001b[0m\u001b[0;34m\u001b[0m\u001b[0m\n",
      "\u001b[0;31mValueError\u001b[0m: Found array with 0 sample(s) (shape=(0, 1)) while a minimum of 1 is required."
     ]
    }
   ],
   "source": [
    "from sklearn.feature_selection import mutual_info_classif\n",
    "\n",
    "feature_scores = mutual_info_classif(X_train.iloc[0:1], y_train[0])\n",
    "feature_scores"
   ]
  },
  {
   "cell_type": "code",
   "execution_count": 224,
   "metadata": {},
   "outputs": [
    {
     "data": {
      "text/plain": [
       "(100,)"
      ]
     },
     "execution_count": 224,
     "metadata": {},
     "output_type": "execute_result"
    }
   ],
   "source": [
    "X_train.iloc[:, 0].shape"
   ]
  },
  {
   "cell_type": "code",
   "execution_count": 234,
   "metadata": {},
   "outputs": [
    {
     "name": "stdout",
     "output_type": "stream",
     "text": [
      "(100,)\n",
      "96     47\n",
      "105    46\n",
      "66     52\n",
      "0      71\n",
      "122    50\n",
      "67     55\n",
      "28     18\n",
      "40     58\n",
      "44     11\n",
      "60     82\n",
      "123    79\n",
      "24     96\n",
      "25     84\n",
      "23     35\n",
      "94     32\n",
      "39      7\n",
      "95     31\n",
      "117    37\n",
      "47     29\n",
      "97     38\n",
      "113    12\n",
      "33      9\n",
      "138    51\n",
      "101    13\n",
      "62      3\n",
      "84     40\n",
      "148    78\n",
      "53     64\n",
      "5      15\n",
      "93      8\n",
      "       ..\n",
      "91     87\n",
      "41     53\n",
      "58     10\n",
      "90     54\n",
      "48     57\n",
      "88     91\n",
      "107    30\n",
      "124    63\n",
      "21     67\n",
      "57     89\n",
      "144    60\n",
      "129    72\n",
      "37     77\n",
      "140    80\n",
      "1      83\n",
      "52     34\n",
      "130    56\n",
      "103    85\n",
      "99     65\n",
      "116    41\n",
      "87     62\n",
      "74     99\n",
      "121    81\n",
      "149    49\n",
      "20     76\n",
      "71     86\n",
      "106     1\n",
      "14     44\n",
      "92     17\n",
      "102     4\n",
      "Name: sepal length (cm), Length: 100, dtype: int64\n",
      "index:65\n",
      "2\n",
      "index:73\n",
      "1\n",
      "index:38\n",
      "0\n",
      "index:47\n",
      "0\n",
      "index:31\n",
      "0\n",
      "index:32\n",
      "0\n",
      "index:8\n",
      "0\n",
      "index:17\n",
      "2\n",
      "index:87\n",
      "2\n",
      "index:54\n",
      "2\n",
      "index:68\n",
      "1\n",
      "index:91\n",
      "1\n",
      "index:62\n",
      "1\n"
     ]
    },
    {
     "ename": "KeyError",
     "evalue": "86",
     "output_type": "error",
     "traceback": [
      "\u001b[0;31m---------------------------------------------------------------------------\u001b[0m",
      "\u001b[0;31mKeyError\u001b[0m                                  Traceback (most recent call last)",
      "\u001b[0;32m<ipython-input-234-713a29822a91>\u001b[0m in \u001b[0;36m<module>\u001b[0;34m()\u001b[0m\n\u001b[1;32m      1\u001b[0m \u001b[0mgains\u001b[0m \u001b[0;34m=\u001b[0m \u001b[0mnp\u001b[0m\u001b[0;34m.\u001b[0m\u001b[0mzeros\u001b[0m\u001b[0;34m(\u001b[0m\u001b[0;34m(\u001b[0m\u001b[0mtotal_size\u001b[0m\u001b[0;34m,\u001b[0m \u001b[0;36m4\u001b[0m\u001b[0;34m)\u001b[0m\u001b[0;34m)\u001b[0m\u001b[0;34m\u001b[0m\u001b[0m\n\u001b[1;32m      2\u001b[0m \u001b[0;32mfor\u001b[0m \u001b[0mi\u001b[0m \u001b[0;32min\u001b[0m \u001b[0mrange\u001b[0m\u001b[0;34m(\u001b[0m\u001b[0;36m0\u001b[0m\u001b[0;34m,\u001b[0m \u001b[0;36m3\u001b[0m\u001b[0;34m)\u001b[0m\u001b[0;34m:\u001b[0m\u001b[0;34m\u001b[0m\u001b[0m\n\u001b[0;32m----> 3\u001b[0;31m     \u001b[0mgains\u001b[0m\u001b[0;34m[\u001b[0m\u001b[0;34m:\u001b[0m\u001b[0;34m,\u001b[0m\u001b[0mi\u001b[0m\u001b[0;34m]\u001b[0m \u001b[0;34m=\u001b[0m \u001b[0mmutual_information\u001b[0m\u001b[0;34m(\u001b[0m\u001b[0mX_train\u001b[0m\u001b[0;34m.\u001b[0m\u001b[0miloc\u001b[0m\u001b[0;34m[\u001b[0m\u001b[0;34m:\u001b[0m\u001b[0;34m,\u001b[0m \u001b[0mi\u001b[0m\u001b[0;34m]\u001b[0m\u001b[0;34m,\u001b[0m \u001b[0my_train\u001b[0m\u001b[0;34m)\u001b[0m\u001b[0;34m\u001b[0m\u001b[0m\n\u001b[0m",
      "\u001b[0;32m<ipython-input-225-8ae513544247>\u001b[0m in \u001b[0;36mmutual_information\u001b[0;34m(X, y)\u001b[0m\n\u001b[1;32m     20\u001b[0m     \u001b[0mprev\u001b[0m\u001b[0;34m=\u001b[0m\u001b[0;34m-\u001b[0m\u001b[0;36m1\u001b[0m\u001b[0;34m\u001b[0m\u001b[0m\n\u001b[1;32m     21\u001b[0m     \u001b[0;31m#process in reverse, to deal with identical values\u001b[0m\u001b[0;34m\u001b[0m\u001b[0;34m\u001b[0m\u001b[0m\n\u001b[0;32m---> 22\u001b[0;31m     \u001b[0;32mfor\u001b[0m \u001b[0mi\u001b[0m \u001b[0;32min\u001b[0m \u001b[0mreversed\u001b[0m\u001b[0;34m(\u001b[0m\u001b[0mind_array\u001b[0m\u001b[0;34m)\u001b[0m\u001b[0;34m:\u001b[0m\u001b[0;34m\u001b[0m\u001b[0m\n\u001b[0m\u001b[1;32m     23\u001b[0m         \u001b[0mprint\u001b[0m\u001b[0;34m(\u001b[0m\u001b[0;34m'index:{}'\u001b[0m\u001b[0;34m.\u001b[0m\u001b[0mformat\u001b[0m\u001b[0;34m(\u001b[0m\u001b[0mi\u001b[0m\u001b[0;34m)\u001b[0m\u001b[0;34m)\u001b[0m\u001b[0;34m\u001b[0m\u001b[0m\n\u001b[1;32m     24\u001b[0m         \u001b[0mlab\u001b[0m \u001b[0;34m=\u001b[0m \u001b[0my\u001b[0m\u001b[0;34m[\u001b[0m\u001b[0mi\u001b[0m\u001b[0;34m]\u001b[0m\u001b[0;34m\u001b[0m\u001b[0m\n",
      "\u001b[0;32m~/anaconda3/lib/python3.6/site-packages/pandas/core/series.py\u001b[0m in \u001b[0;36m__getitem__\u001b[0;34m(self, key)\u001b[0m\n\u001b[1;32m    764\u001b[0m         \u001b[0mkey\u001b[0m \u001b[0;34m=\u001b[0m \u001b[0mcom\u001b[0m\u001b[0;34m.\u001b[0m\u001b[0m_apply_if_callable\u001b[0m\u001b[0;34m(\u001b[0m\u001b[0mkey\u001b[0m\u001b[0;34m,\u001b[0m \u001b[0mself\u001b[0m\u001b[0;34m)\u001b[0m\u001b[0;34m\u001b[0m\u001b[0m\n\u001b[1;32m    765\u001b[0m         \u001b[0;32mtry\u001b[0m\u001b[0;34m:\u001b[0m\u001b[0;34m\u001b[0m\u001b[0m\n\u001b[0;32m--> 766\u001b[0;31m             \u001b[0mresult\u001b[0m \u001b[0;34m=\u001b[0m \u001b[0mself\u001b[0m\u001b[0;34m.\u001b[0m\u001b[0mindex\u001b[0m\u001b[0;34m.\u001b[0m\u001b[0mget_value\u001b[0m\u001b[0;34m(\u001b[0m\u001b[0mself\u001b[0m\u001b[0;34m,\u001b[0m \u001b[0mkey\u001b[0m\u001b[0;34m)\u001b[0m\u001b[0;34m\u001b[0m\u001b[0m\n\u001b[0m\u001b[1;32m    767\u001b[0m \u001b[0;34m\u001b[0m\u001b[0m\n\u001b[1;32m    768\u001b[0m             \u001b[0;32mif\u001b[0m \u001b[0;32mnot\u001b[0m \u001b[0mis_scalar\u001b[0m\u001b[0;34m(\u001b[0m\u001b[0mresult\u001b[0m\u001b[0;34m)\u001b[0m\u001b[0;34m:\u001b[0m\u001b[0;34m\u001b[0m\u001b[0m\n",
      "\u001b[0;32m~/anaconda3/lib/python3.6/site-packages/pandas/core/indexes/base.py\u001b[0m in \u001b[0;36mget_value\u001b[0;34m(self, series, key)\u001b[0m\n\u001b[1;32m   3101\u001b[0m         \u001b[0;32mtry\u001b[0m\u001b[0;34m:\u001b[0m\u001b[0;34m\u001b[0m\u001b[0m\n\u001b[1;32m   3102\u001b[0m             return self._engine.get_value(s, k,\n\u001b[0;32m-> 3103\u001b[0;31m                                           tz=getattr(series.dtype, 'tz', None))\n\u001b[0m\u001b[1;32m   3104\u001b[0m         \u001b[0;32mexcept\u001b[0m \u001b[0mKeyError\u001b[0m \u001b[0;32mas\u001b[0m \u001b[0me1\u001b[0m\u001b[0;34m:\u001b[0m\u001b[0;34m\u001b[0m\u001b[0m\n\u001b[1;32m   3105\u001b[0m             \u001b[0;32mif\u001b[0m \u001b[0mlen\u001b[0m\u001b[0;34m(\u001b[0m\u001b[0mself\u001b[0m\u001b[0;34m)\u001b[0m \u001b[0;34m>\u001b[0m \u001b[0;36m0\u001b[0m \u001b[0;32mand\u001b[0m \u001b[0mself\u001b[0m\u001b[0;34m.\u001b[0m\u001b[0minferred_type\u001b[0m \u001b[0;32min\u001b[0m \u001b[0;34m[\u001b[0m\u001b[0;34m'integer'\u001b[0m\u001b[0;34m,\u001b[0m \u001b[0;34m'boolean'\u001b[0m\u001b[0;34m]\u001b[0m\u001b[0;34m:\u001b[0m\u001b[0;34m\u001b[0m\u001b[0m\n",
      "\u001b[0;32mpandas/_libs/index.pyx\u001b[0m in \u001b[0;36mpandas._libs.index.IndexEngine.get_value\u001b[0;34m()\u001b[0m\n",
      "\u001b[0;32mpandas/_libs/index.pyx\u001b[0m in \u001b[0;36mpandas._libs.index.IndexEngine.get_value\u001b[0;34m()\u001b[0m\n",
      "\u001b[0;32mpandas/_libs/index.pyx\u001b[0m in \u001b[0;36mpandas._libs.index.IndexEngine.get_loc\u001b[0;34m()\u001b[0m\n",
      "\u001b[0;32mpandas/_libs/hashtable_class_helper.pxi\u001b[0m in \u001b[0;36mpandas._libs.hashtable.Int64HashTable.get_item\u001b[0;34m()\u001b[0m\n",
      "\u001b[0;32mpandas/_libs/hashtable_class_helper.pxi\u001b[0m in \u001b[0;36mpandas._libs.hashtable.Int64HashTable.get_item\u001b[0;34m()\u001b[0m\n",
      "\u001b[0;31mKeyError\u001b[0m: 86"
     ]
    }
   ],
   "source": [
    "gains = np.zeros((total_size, 4))\n",
    "for i in range(0, 3):\n",
    "    gains[:,i] = mutual_information(X_train.iloc[:, i], y_train)"
   ]
  },
  {
   "cell_type": "code",
   "execution_count": 216,
   "metadata": {},
   "outputs": [
    {
     "name": "stdout",
     "output_type": "stream",
     "text": [
      "2\n"
     ]
    }
   ],
   "source": [
    "X_train.iloc[86]\n",
    "print(y_train[86])"
   ]
  },
  {
   "cell_type": "code",
   "execution_count": 183,
   "metadata": {},
   "outputs": [
    {
     "name": "stdout",
     "output_type": "stream",
     "text": [
      "[0 1 2] [31 35 34]\n"
     ]
    }
   ],
   "source": [
    "l, c = np.unique(y_train, return_counts=True)"
   ]
  },
  {
   "cell_type": "code",
   "execution_count": 145,
   "metadata": {
    "collapsed": true
   },
   "outputs": [],
   "source": [
    "num_classes = len(iris.target_names)\n",
    "oracle = Oracle(clf, num_classes)\n",
    "training_set = (X_train, y_train)"
   ]
  },
  {
   "cell_type": "code",
   "execution_count": 146,
   "metadata": {
    "collapsed": true
   },
   "outputs": [],
   "source": [
    "y_hat = oracle.predict(np.array(X_train))"
   ]
  },
  {
   "cell_type": "code",
   "execution_count": 147,
   "metadata": {
    "collapsed": true
   },
   "outputs": [],
   "source": [
    "import queue as Q\n",
    "sortedQueue = Q.PriorityQueue()"
   ]
  },
  {
   "cell_type": "code",
   "execution_count": 189,
   "metadata": {},
   "outputs": [
    {
     "name": "stdout",
     "output_type": "stream",
     "text": [
      "100\n",
      "4\n"
     ]
    }
   ],
   "source": [
    "total_size = X_train.shape[0]\n",
    "num_dim = X_train.shape[1]\n",
    "print(total_size)\n",
    "print(num_dim)"
   ]
  },
  {
   "cell_type": "code",
   "execution_count": 230,
   "metadata": {},
   "outputs": [
    {
     "name": "stdout",
     "output_type": "stream",
     "text": [
      "NEW NODE! with priority = -0.010000000000000009\n"
     ]
    }
   ],
   "source": [
    "# Construct the tree\n",
    "root = Node(training_set, y_hat, total_size)\n",
    "\n",
    "root.leaf=False\n",
    "sortedQueue.put((root.priority, (0, root, training_set, Constraints(num_dim))))"
   ]
  },
  {
   "cell_type": "code",
   "execution_count": 233,
   "metadata": {
    "collapsed": true
   },
   "outputs": [],
   "source": [
    "# Algorithm:\n",
    "tree_size_limit = 100 #arbitary number right now\n",
    "while not sortedQueue.empty() & sortedQueue.qsize() < tree_size_limit:\n",
    "    (p, (t, node, examples, constraints)) = sortedQueue.get()\n",
    "    num_ex=examples[0].shape[0]\n",
    "    print(\"############PROCESSING \"+str(num_ex)+\" #############\")\n",
    "    examples_aug = examples\n",
    "    \n",
    "    # best possible split"
   ]
  },
  {
   "cell_type": "code",
   "execution_count": 231,
   "metadata": {},
   "outputs": [
    {
     "name": "stdout",
     "output_type": "stream",
     "text": [
      "1\n"
     ]
    }
   ],
   "source": [
    "print(sortedQueue.qsize())"
   ]
  },
  {
   "cell_type": "code",
   "execution_count": null,
   "metadata": {
    "collapsed": true
   },
   "outputs": [],
   "source": []
  }
 ],
 "metadata": {
  "kernelspec": {
   "display_name": "Python 3",
   "language": "python",
   "name": "python3"
  },
  "language_info": {
   "codemirror_mode": {
    "name": "ipython",
    "version": 3
   },
   "file_extension": ".py",
   "mimetype": "text/x-python",
   "name": "python",
   "nbconvert_exporter": "python",
   "pygments_lexer": "ipython3",
   "version": "3.6.3"
  }
 },
 "nbformat": 4,
 "nbformat_minor": 2
}
