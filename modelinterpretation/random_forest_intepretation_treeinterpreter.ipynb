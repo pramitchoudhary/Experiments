{
 "cells": [
  {
   "cell_type": "code",
   "execution_count": 1,
   "metadata": {
    "collapsed": true
   },
   "outputs": [],
   "source": [
    "# Reference: https://github.com/andosa/treeinterpreter\n",
    "# Blog: http://blog.datadive.net/random-forest-interpretation-with-scikit-learn/\n",
    "\n",
    "from treeinterpreter import treeinterpreter as ti\n",
    "from sklearn.tree import DecisionTreeRegressor\n",
    "from sklearn.ensemble import RandomForestRegressor\n",
    "import numpy as np"
   ]
  },
  {
   "cell_type": "code",
   "execution_count": 2,
   "metadata": {
    "collapsed": true
   },
   "outputs": [],
   "source": [
    "from sklearn.datasets import load_boston\n",
    "boston = load_boston()\n",
    "rf = RandomForestRegressor()"
   ]
  },
  {
   "cell_type": "code",
   "execution_count": 13,
   "metadata": {
    "collapsed": false
   },
   "outputs": [
    {
     "data": {
      "text/plain": [
       "(300, 13)"
      ]
     },
     "execution_count": 13,
     "metadata": {},
     "output_type": "execute_result"
    }
   ],
   "source": [
    "boston.data[:300,].shape"
   ]
  },
  {
   "cell_type": "code",
   "execution_count": 16,
   "metadata": {
    "collapsed": false
   },
   "outputs": [],
   "source": [
    "rf = RandomForestRegressor()\n",
    "fit1 = rf.fit(boston.data[:300], boston.target[:300])"
   ]
  },
  {
   "cell_type": "code",
   "execution_count": 17,
   "metadata": {
    "collapsed": false
   },
   "outputs": [
    {
     "data": {
      "text/plain": [
       "RandomForestRegressor(bootstrap=True, criterion='mse', max_depth=None,\n",
       "           max_features='auto', max_leaf_nodes=None,\n",
       "           min_impurity_split=1e-07, min_samples_leaf=1,\n",
       "           min_samples_split=2, min_weight_fraction_leaf=0.0,\n",
       "           n_estimators=10, n_jobs=1, oob_score=False, random_state=None,\n",
       "           verbose=0, warm_start=False)"
      ]
     },
     "execution_count": 17,
     "metadata": {},
     "output_type": "execute_result"
    }
   ],
   "source": [
    "fit1"
   ]
  },
  {
   "cell_type": "code",
   "execution_count": 37,
   "metadata": {
    "collapsed": false
   },
   "outputs": [
    {
     "name": "stdout",
     "output_type": "stream",
     "text": [
      "Instance 0 prediction: [ 29.8]\n",
      "Instance 1 prediction: [ 22.48]\n"
     ]
    }
   ],
   "source": [
    "instances = boston.data[[300, 309]]\n",
    "print \"Instance 0 prediction:\", rf.predict(instances[0].reshape(1,13))\n",
    "print \"Instance 1 prediction:\", rf.predict(instances[1].reshape(1,13))"
   ]
  },
  {
   "cell_type": "code",
   "execution_count": 38,
   "metadata": {
    "collapsed": true
   },
   "outputs": [],
   "source": [
    "prediction, bias, contributions = ti.predict(rf, instances)"
   ]
  },
  {
   "cell_type": "code",
   "execution_count": 40,
   "metadata": {
    "collapsed": false
   },
   "outputs": [
    {
     "name": "stdout",
     "output_type": "stream",
     "text": [
      " Instance 0\n",
      "Bias (trainset mean) 25.5985333333\n",
      "Feature contributions:\n",
      "RM 3.94\n",
      "LSTAT 0.59\n",
      "INDUS 0.51\n",
      "CRIM -0.39\n",
      "PTRATIO 0.35\n",
      "DIS -0.3\n",
      "TAX -0.29\n",
      "B -0.19\n",
      "NOX 0.18\n",
      "AGE -0.11\n",
      "ZN -0.06\n",
      "CHAS -0.04\n",
      "RAD 0.02\n",
      "--------------------\n",
      "Instance 1\n",
      "Bias (trainset mean) 25.5985333333\n",
      "Feature contributions:\n",
      "RM -5.14\n",
      "LSTAT 2.27\n",
      "INDUS -0.35\n",
      "TAX -0.31\n",
      "CRIM 0.21\n",
      "AGE 0.21\n",
      "B -0.12\n",
      "NOX -0.09\n",
      "PTRATIO 0.08\n",
      "ZN 0.06\n",
      "DIS 0.06\n",
      "RAD -0.01\n",
      "CHAS 0.0\n",
      "--------------------\n"
     ]
    }
   ],
   "source": [
    "for i in range(len(instances)):\n",
    "    print \"Instance\", i\n",
    "    print \"Bias (trainset mean)\", bias[i]\n",
    "    print \"Feature contributions:\"\n",
    "    for c, feature in sorted(zip(contributions[i], \n",
    "                                 boston.feature_names), \n",
    "                             key=lambda x: -abs(x[0])):\n",
    "        print feature, round(c, 2)\n",
    "    print \"-\"*20"
   ]
  },
  {
   "cell_type": "code",
   "execution_count": 42,
   "metadata": {
    "collapsed": false
   },
   "outputs": [
    {
     "name": "stdout",
     "output_type": "stream",
     "text": [
      "[ 29.8   22.48]\n",
      "[ 29.8   22.48]\n"
     ]
    }
   ],
   "source": [
    "print prediction\n",
    "print bias + np.sum(contributions, axis=1)"
   ]
  },
  {
   "cell_type": "code",
   "execution_count": 43,
   "metadata": {
    "collapsed": false
   },
   "outputs": [
    {
     "data": {
      "text/plain": [
       "array([ 0.01602412,  0.00129815,  0.00440821,  0.00173291,  0.00392606,\n",
       "        0.81480729,  0.01405132,  0.00794089,  0.00397147,  0.0120137 ,\n",
       "        0.01252419,  0.01006302,  0.09723867])"
      ]
     },
     "execution_count": 43,
     "metadata": {},
     "output_type": "execute_result"
    }
   ],
   "source": [
    "#  the basic feature importance feature provided by sklearn\n",
    "fit1.feature_importances_"
   ]
  },
  {
   "cell_type": "code",
   "execution_count": 44,
   "metadata": {
    "collapsed": false
   },
   "outputs": [
    {
     "data": {
      "text/plain": [
       "<bound method RandomForestRegressor.apply of RandomForestRegressor(bootstrap=True, criterion='mse', max_depth=None,\n",
       "           max_features='auto', max_leaf_nodes=None,\n",
       "           min_impurity_split=1e-07, min_samples_leaf=1,\n",
       "           min_samples_split=2, min_weight_fraction_leaf=0.0,\n",
       "           n_estimators=10, n_jobs=1, oob_score=False, random_state=None,\n",
       "           verbose=0, warm_start=False)>"
      ]
     },
     "execution_count": 44,
     "metadata": {},
     "output_type": "execute_result"
    }
   ],
   "source": [
    "# treeinterpreter uses the apply function to retrieve the leave indicies with the help of which, \n",
    "# the tree path is retrieved\n",
    "\n",
    "rf.apply"
   ]
  },
  {
   "cell_type": "code",
   "execution_count": 47,
   "metadata": {
    "collapsed": false
   },
   "outputs": [
    {
     "data": {
      "text/plain": [
       "array([[311, 283, 265, 296,  95, 118, 254, 308, 104, 301],\n",
       "       [117,  79,  74,  82,  48,  33, 121, 104,  73,  63]])"
      ]
     },
     "execution_count": 47,
     "metadata": {},
     "output_type": "execute_result"
    }
   ],
   "source": [
    "rf.apply(instances)"
   ]
  },
  {
   "cell_type": "code",
   "execution_count": null,
   "metadata": {
    "collapsed": true
   },
   "outputs": [],
   "source": []
  }
 ],
 "metadata": {
  "kernelspec": {
   "display_name": "Python 2",
   "language": "python",
   "name": "python2"
  },
  "language_info": {
   "codemirror_mode": {
    "name": "ipython",
    "version": 2
   },
   "file_extension": ".py",
   "mimetype": "text/x-python",
   "name": "python",
   "nbconvert_exporter": "python",
   "pygments_lexer": "ipython2",
   "version": "2.7.6"
  }
 },
 "nbformat": 4,
 "nbformat_minor": 0
}
