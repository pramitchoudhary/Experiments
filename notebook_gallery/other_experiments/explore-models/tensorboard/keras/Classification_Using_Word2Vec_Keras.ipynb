{
 "cells": [
  {
   "cell_type": "code",
   "execution_count": 22,
   "metadata": {
    "collapsed": true
   },
   "outputs": [],
   "source": [
    "import gensim\n",
    "from IPython.display import Image\n",
    "from IPython.display import display\n",
    "import numpy as np\n",
    "import pandas as pd\n",
    "import matplotlib.pyplot as plt\n",
    "\n",
    "# inline plotting instead of popping out\n",
    "%matplotlib inline\n",
    "\n",
    "# load utility classes/functions that has been taught in previous labs\n",
    "# e.g., plot_decision_regions()\n",
    "import os, sys\n",
    "module_path = os.path.abspath(os.path.join('.'))\n",
    "sys.path.append(module_path)"
   ]
  },
  {
   "cell_type": "code",
   "execution_count": 2,
   "metadata": {
    "collapsed": true
   },
   "outputs": [],
   "source": [
    "from sklearn.datasets import fetch_20newsgroups\n",
    "\n",
    "# we take 2 news groups:\n",
    "# 1) rec : recreational activities (entertainment)\n",
    "# 2) sci : science\n",
    "categories = [\n",
    "    'rec.autos',\n",
    "    'rec.motorcycles',\n",
    "    'rec.sport.baseball',\n",
    "    'rec.sport.hockey',\n",
    "    'sci.crypt',\n",
    "    'sci.electronics',\n",
    "    'sci.med',\n",
    "    'sci.space',\n",
    "]\n",
    "\n",
    "# remove the following context, we only need the content\n",
    "remove = ('headers', 'footers', 'quotes')\n",
    "\n",
    "# after fetching the data\n",
    "# content will store in newsgroups.data\n",
    "# label will store in newsgroups.target\n",
    "newsgroups = fetch_20newsgroups(subset='all', categories=categories,\n",
    "                                     shuffle=True, random_state=0,\n",
    "                                     remove=remove)"
   ]
  },
  {
   "cell_type": "code",
   "execution_count": 3,
   "metadata": {},
   "outputs": [
    {
     "name": "stdout",
     "output_type": "stream",
     "text": [
      "#Data size: 7931\n",
      "Labels: [0 1 2 3 4 5 6 7]\n"
     ]
    }
   ],
   "source": [
    "print('#Data size: %s' % np.shape(newsgroups.data))\n",
    "print('Labels: %s' % np.unique(newsgroups.target))"
   ]
  },
  {
   "cell_type": "code",
   "execution_count": 4,
   "metadata": {},
   "outputs": [
    {
     "name": "stdout",
     "output_type": "stream",
     "text": [
      "[nltk_data] Downloading package stopwords to /home/ubuntu/nltk_data...\n",
      "[nltk_data]   Package stopwords is already up-to-date!\n",
      "[u'runner', 'like', u'run', u'thu', 'run']\n"
     ]
    }
   ],
   "source": [
    "import nltk\n",
    "import re\n",
    "from nltk.corpus import stopwords\n",
    "from nltk.stem.porter import PorterStemmer\n",
    "\n",
    "\n",
    "nltk.download('stopwords')\n",
    "stop = stopwords.words('english')\n",
    "\n",
    "def tokenizer_stem_nostop(text):\n",
    "    porter = PorterStemmer()\n",
    "    return [porter.stem(w) for w in re.split('\\s+', text.strip()) \\\n",
    "            if w not in stop and re.match('[a-zA-Z]+', w)]\n",
    "\n",
    "print(tokenizer_stem_nostop('runners like running and thus they run'))"
   ]
  },
  {
   "cell_type": "code",
   "execution_count": 5,
   "metadata": {
    "collapsed": true
   },
   "outputs": [],
   "source": [
    "from bs4 import BeautifulSoup\n",
    "\n",
    "def preprocessor(text):\n",
    "    # remove HTML tags\n",
    "    text = BeautifulSoup(text, 'html.parser').get_text()\n",
    "    \n",
    "    # regex for matching emoticons, keep emoticons, ex: :), :-P, :-D\n",
    "    r = '(?::|;|=|X)(?:-)?(?:\\)|\\(|D|P)'\n",
    "    emoticons = re.findall(r, text)\n",
    "    text = re.sub(r, '', text)\n",
    "    \n",
    "    # convert to lowercase and append all emoticons behind (with space in between)\n",
    "    # replace('-','') removes nose of emoticons\n",
    "    text = re.sub('[\\W]+', ' ', text.lower()) + ' ' + ' '.join(emoticons).replace('-','')\n",
    "    return text"
   ]
  },
  {
   "cell_type": "code",
   "execution_count": 6,
   "metadata": {},
   "outputs": [
    {
     "name": "stderr",
     "output_type": "stream",
     "text": [
      "Using TensorFlow backend.\n"
     ]
    },
    {
     "name": "stdout",
     "output_type": "stream",
     "text": [
      "CPU times: user 22.7 s, sys: 28 ms, total: 22.7 s\n",
      "Wall time: 11.5 s\n"
     ]
    }
   ],
   "source": [
    "from keras.models import Sequential\n",
    "from keras.layers import Dense, Activation\n",
    "\n",
    "\n",
    "# preprocess the text\n",
    "corpus = []\n",
    "for text in newsgroups.data:\n",
    "    corpus.append(tokenizer_stem_nostop(preprocessor(text)))\n",
    "\n",
    "# size : embed dimension\n",
    "# min_count : filter words without min frequency\n",
    "# sg : 0 for CBOW; 1 for skip-gram\n",
    "# negative : how many noise words should be drawn\n",
    "%time model_w2v = gensim.models.Word2Vec(corpus, size=64, min_count=5, sg=1, negative=5, workers=2)"
   ]
  },
  {
   "cell_type": "code",
   "execution_count": 7,
   "metadata": {},
   "outputs": [
    {
     "data": {
      "text/plain": [
       "[(u'ford', 0.8176076412200928),\n",
       " (u'mustang', 0.7967401742935181),\n",
       " (u'nissan', 0.7952576875686646),\n",
       " (u'bike', 0.7919961214065552),\n",
       " (u'toyota', 0.7824968099594116),\n",
       " (u'audi', 0.778469443321228),\n",
       " (u'tauru', 0.7754430174827576),\n",
       " (u'truck', 0.7736278772354126),\n",
       " (u'camri', 0.7730960845947266),\n",
       " (u'sho', 0.7694990038871765)]"
      ]
     },
     "metadata": {},
     "output_type": "display_data"
    },
    {
     "data": {
      "text/plain": [
       "[(u'latin', 0.7448458671569824),\n",
       " (u'nativ', 0.7379274368286133),\n",
       " (u'nation', 0.7355138659477234),\n",
       " (u'competit', 0.7330318689346313),\n",
       " (u'entitl', 0.6995961666107178),\n",
       " (u'former', 0.69708651304245),\n",
       " (u'financi', 0.695411205291748),\n",
       " (u'consensu', 0.6874957084655762),\n",
       " (u'sex', 0.6806329488754272),\n",
       " (u'affili', 0.678200900554657)]"
      ]
     },
     "metadata": {},
     "output_type": "display_data"
    },
    {
     "data": {
      "text/plain": [
       "[(u'hockey', 0.8087467551231384),\n",
       " (u'footbal', 0.8064682483673096),\n",
       " (u'fan', 0.802107572555542),\n",
       " (u'basketbal', 0.7743037939071655),\n",
       " (u'brave', 0.7649409174919128),\n",
       " (u'enjoy', 0.758629560470581),\n",
       " (u'roster', 0.7545195817947388),\n",
       " (u'soccer', 0.7541965842247009),\n",
       " (u'aaa', 0.7462256550788879),\n",
       " (u'nhl', 0.7448275089263916)]"
      ]
     },
     "metadata": {},
     "output_type": "display_data"
    }
   ],
   "source": [
    "display(model_w2v.most_similar('car'))\n",
    "display(model_w2v.most_similar('american'))\n",
    "display(model_w2v.most_similar('basebal'))"
   ]
  },
  {
   "cell_type": "code",
   "execution_count": 8,
   "metadata": {},
   "outputs": [
    {
     "data": {
      "text/plain": [
       "[(u'owner', 0.792001485824585),\n",
       " (u'vw', 0.7547674179077148),\n",
       " (u'auto', 0.7486371994018555),\n",
       " (u'motorcycl', 0.7448223829269409),\n",
       " (u'own', 0.7314728498458862),\n",
       " (u'nissan', 0.7178159952163696),\n",
       " (u'dealership', 0.7170982956886292),\n",
       " (u'toyota', 0.7167567014694214),\n",
       " (u'boxer', 0.7157037854194641),\n",
       " (u'mustang', 0.7135183811187744)]"
      ]
     },
     "metadata": {},
     "output_type": "display_data"
    }
   ],
   "source": [
    "display(model_w2v.most_similar(positive=['america', 'bmw'], negative=['spain']))"
   ]
  },
  {
   "cell_type": "code",
   "execution_count": 12,
   "metadata": {
    "collapsed": true
   },
   "outputs": [],
   "source": [
    "from sklearn.feature_extraction.text import TfidfVectorizer\n",
    "from sklearn.model_selection import train_test_split\n",
    "\n",
    "# for simplicity, we only take 512 features\n",
    "vectorizer = TfidfVectorizer(analyzer='word', ngram_range=(1, 1), max_features=512, sublinear_tf=True, \n",
    "                             max_df=0.5, preprocessor=preprocessor, tokenizer=tokenizer_stem_nostop)\n",
    "\n",
    "X = vectorizer.fit_transform(newsgroups.data).toarray()\n",
    "y = (newsgroups.target > 3).astype(int)\n",
    "\n",
    "X_train, X_test, y_train, y_test = train_test_split(\n",
    "    X, y, test_size=0.25, random_state=0)\n",
    "\n",
    "# the dictionary map from word to feature index\n",
    "dictionary = vectorizer.vocabulary_\n",
    "\n",
    "# construct inverse_dictionary from feature index to dictionary\n",
    "inverse_dictionary = {v: k for k, v in dictionary.items()}"
   ]
  },
  {
   "cell_type": "code",
   "execution_count": 13,
   "metadata": {
    "collapsed": true
   },
   "outputs": [],
   "source": [
    "def tfidf_word2vec_transform(model_w2v, embed_dim, inv_dic_tfidf, score_tfidf):\n",
    "    tfidf_word2vec = np.zeros((score_tfidf.shape[0], embed_dim))\n",
    "    for i in range(score_tfidf.shape[0]):\n",
    "        doc_word2vec = np.zeros(embed_dim)\n",
    "        for j in range(score_tfidf.shape[1]):\n",
    "            doc_word2vec += score_tfidf[i, j] * model_w2v[inv_dic_tfidf[j]]\n",
    "        tfidf_word2vec[i, :] = doc_word2vec\n",
    "    return tfidf_word2vec\n",
    "\n",
    "X_train_w2v = tfidf_word2vec_transform(model_w2v, 64, inverse_dictionary, X_train)\n",
    "X_test_w2v = tfidf_word2vec_transform(model_w2v, 64, inverse_dictionary, X_test)"
   ]
  },
  {
   "cell_type": "code",
   "execution_count": 26,
   "metadata": {},
   "outputs": [
    {
     "data": {
      "text/plain": [
       "array([ 0.41058146,  1.16992539, -0.54894748, -1.79961131, -0.35598106,\n",
       "       -0.86564943,  0.33669829, -1.34908469, -0.29955901, -0.34102699,\n",
       "        0.75765617, -0.18391607, -0.50561467, -1.087518  , -0.3385556 ,\n",
       "        0.27133455, -0.5293879 , -0.04671408,  2.45314048, -0.46116331,\n",
       "       -1.14009218, -0.10810752,  0.35553575,  1.2123351 ,  0.38534506,\n",
       "        1.05823985, -0.10183711,  0.44092733,  0.3154994 , -0.77909755,\n",
       "        1.21425244,  0.83364241,  0.87269434,  2.4830182 , -0.61685819,\n",
       "        0.51340503, -0.50618246, -2.16490776, -0.01261099, -2.12627963,\n",
       "       -1.56969479, -1.43095485, -1.01507289, -0.42928434,  1.16558249,\n",
       "       -1.58090102, -1.34407029, -0.10722516,  0.51947929,  0.69150414,\n",
       "        1.16724647, -1.60215616, -0.17482791,  0.72186637, -0.58711291,\n",
       "        1.00358356,  1.12708677,  0.668967  ,  1.55330493, -1.54186796,\n",
       "        0.5957557 ,  1.19417947,  1.1637022 , -0.5058592 ])"
      ]
     },
     "execution_count": 26,
     "metadata": {},
     "output_type": "execute_result"
    }
   ],
   "source": [
    "X_train_w2v[0]"
   ]
  },
  {
   "cell_type": "code",
   "execution_count": 14,
   "metadata": {
    "collapsed": true
   },
   "outputs": [],
   "source": [
    "def gen_nn(input_dim=512, width=32, depth=2):\n",
    "    model = Sequential()\n",
    "    model.add(Dense(input_dim=input_dim, output_dim=width))\n",
    "    model.add(Activation('relu'))\n",
    "    for k in range(2, depth):\n",
    "        model.add(Dense(output_dim=width))\n",
    "        model.add(Activation('relu'))\n",
    "    model.add(Dense(output_dim=1))\n",
    "    model.add(Activation('sigmoid'))\n",
    "    model.compile(optimizer='sgd',\n",
    "                  loss='binary_crossentropy',\n",
    "                  metrics=['accuracy'])\n",
    "    return model"
   ]
  },
  {
   "cell_type": "code",
   "execution_count": 47,
   "metadata": {},
   "outputs": [
    {
     "name": "stderr",
     "output_type": "stream",
     "text": [
      "/home/ubuntu/anaconda2/lib/python2.7/site-packages/ipykernel_launcher.py:3: UserWarning: Update your `Dense` call to the Keras 2 API: `Dense(units=32, input_dim=64)`\n",
      "  This is separate from the ipykernel package so we can avoid doing imports until\n",
      "/home/ubuntu/anaconda2/lib/python2.7/site-packages/ipykernel_launcher.py:8: UserWarning: Update your `Dense` call to the Keras 2 API: `Dense(units=1)`\n",
      "  \n"
     ]
    }
   ],
   "source": [
    "from keras.callbacks import EarlyStopping\n",
    "from keras.callbacks import TensorBoard\n",
    "batch_size = 32\n",
    "\n",
    "early_stop = EarlyStopping(monitor='val_loss', min_delta=0, patience=20, verbose=0)\n",
    "tb_callBack = TensorBoard(log_dir='/tmp/tensorflow_logs/cnn_example/experiment_keras', \n",
    "                         histogram_freq=0, write_graph=True, write_images=True)\n",
    "model = gen_nn(input_dim=X_train_w2v.shape[1])"
   ]
  },
  {
   "cell_type": "code",
   "execution_count": 48,
   "metadata": {},
   "outputs": [
    {
     "name": "stdout",
     "output_type": "stream",
     "text": [
      "CPU times: user 1min 51s, sys: 4.71 s, total: 1min 56s\n",
      "Wall time: 51.1 s\n"
     ]
    }
   ],
   "source": [
    "%time his = model.fit(X_train_w2v, y_train, \\\n",
    "                      nb_epoch=1000, \\\n",
    "                      batch_size=batch_size, \\\n",
    "                      validation_split=0.2, \\\n",
    "                      shuffle=True, verbose=0, \\\n",
    "                      callbacks=[early_stop, tb_callBack])"
   ]
  },
  {
   "cell_type": "code",
   "execution_count": 49,
   "metadata": {},
   "outputs": [
    {
     "name": "stdout",
     "output_type": "stream",
     "text": [
      "\n",
      "Test loss: 0.323\n",
      "Test accuracy: 0.849\n"
     ]
    },
    {
     "data": {
      "image/png": "[encoded data removed]",
      "text/plain": [
       "<matplotlib.figure.Figure at 0x7fcc1d4be210>"
      ]
     },
     "metadata": {},
     "output_type": "display_data"
    }
   ],
   "source": [
    "# evaluate trained model\n",
    "score = model.evaluate(X_test_w2v, y_test, verbose=0)\n",
    "print('\\nTest loss: %.3f' % score[0])\n",
    "print('Test accuracy: %.3f' % score[1])\n",
    "train_loss = his.history['loss']\n",
    "val_loss = his.history['val_loss']\n",
    "\n",
    "# visualize training history\n",
    "plt.plot(range(1, len(train_loss)+1), train_loss, color='blue', label='Train loss')\n",
    "plt.plot(range(1, len(val_loss)+1), val_loss, color='red', label='Val loss')\n",
    "plt.xlim(0, len(train_loss))\n",
    "plt.legend(loc=\"upper right\")\n",
    "plt.xlabel('#Epoch')\n",
    "plt.ylabel('Loss')\n",
    "plt.savefig('./fig-nn-w2v-val.png', dpi=300)\n",
    "plt.show()"
   ]
  },
  {
   "cell_type": "code",
   "execution_count": 45,
   "metadata": {},
   "outputs": [
    {
     "data": {
      "text/plain": [
       "32"
      ]
     },
     "execution_count": 45,
     "metadata": {},
     "output_type": "execute_result"
    }
   ],
   "source": [
    "len(model.get_weights()[1])"
   ]
  },
  {
   "cell_type": "code",
   "execution_count": null,
   "metadata": {
    "collapsed": true
   },
   "outputs": [],
   "source": []
  }
 ],
 "metadata": {
  "kernelspec": {
   "display_name": "Python 2",
   "language": "python",
   "name": "python2"
  },
  "language_info": {
   "codemirror_mode": {
    "name": "ipython",
    "version": 2
   },
   "file_extension": ".py",
   "mimetype": "text/x-python",
   "name": "python",
   "nbconvert_exporter": "python",
   "pygments_lexer": "ipython2",
   "version": "2.7.14"
  }
 },
 "nbformat": 4,
 "nbformat_minor": 2
}
