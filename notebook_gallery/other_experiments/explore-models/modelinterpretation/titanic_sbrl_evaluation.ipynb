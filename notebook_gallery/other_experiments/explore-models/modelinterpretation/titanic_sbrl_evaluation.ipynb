{
 "cells": [
  {
   "cell_type": "code",
   "execution_count": 26,
   "metadata": {
    "code_folding": []
   },
   "outputs": [
    {
     "data": {
      "text/html": [
       "<div>\n",
       "<style>\n",
       "    .dataframe thead tr:only-child th {\n",
       "        text-align: right;\n",
       "    }\n",
       "\n",
       "    .dataframe thead th {\n",
       "        text-align: left;\n",
       "    }\n",
       "\n",
       "    .dataframe tbody tr th {\n",
       "        vertical-align: top;\n",
       "    }\n",
       "</style>\n",
       "<table border=\"1\" class=\"dataframe\">\n",
       "  <thead>\n",
       "    <tr style=\"text-align: right;\">\n",
       "      <th></th>\n",
       "      <th>PassengerId</th>\n",
       "      <th>Survived</th>\n",
       "      <th>Pclass</th>\n",
       "      <th>Age</th>\n",
       "      <th>SibSp</th>\n",
       "      <th>Parch</th>\n",
       "      <th>Fare</th>\n",
       "    </tr>\n",
       "  </thead>\n",
       "  <tbody>\n",
       "    <tr>\n",
       "      <th>count</th>\n",
       "      <td>891.000000</td>\n",
       "      <td>891.000000</td>\n",
       "      <td>891.000000</td>\n",
       "      <td>714.000000</td>\n",
       "      <td>891.000000</td>\n",
       "      <td>891.000000</td>\n",
       "      <td>891.000000</td>\n",
       "    </tr>\n",
       "    <tr>\n",
       "      <th>mean</th>\n",
       "      <td>446.000000</td>\n",
       "      <td>0.383838</td>\n",
       "      <td>2.308642</td>\n",
       "      <td>29.699118</td>\n",
       "      <td>0.523008</td>\n",
       "      <td>0.381594</td>\n",
       "      <td>32.204208</td>\n",
       "    </tr>\n",
       "    <tr>\n",
       "      <th>std</th>\n",
       "      <td>257.353842</td>\n",
       "      <td>0.486592</td>\n",
       "      <td>0.836071</td>\n",
       "      <td>14.526497</td>\n",
       "      <td>1.102743</td>\n",
       "      <td>0.806057</td>\n",
       "      <td>49.693429</td>\n",
       "    </tr>\n",
       "    <tr>\n",
       "      <th>min</th>\n",
       "      <td>1.000000</td>\n",
       "      <td>0.000000</td>\n",
       "      <td>1.000000</td>\n",
       "      <td>0.420000</td>\n",
       "      <td>0.000000</td>\n",
       "      <td>0.000000</td>\n",
       "      <td>0.000000</td>\n",
       "    </tr>\n",
       "    <tr>\n",
       "      <th>25%</th>\n",
       "      <td>223.500000</td>\n",
       "      <td>0.000000</td>\n",
       "      <td>2.000000</td>\n",
       "      <td>20.125000</td>\n",
       "      <td>0.000000</td>\n",
       "      <td>0.000000</td>\n",
       "      <td>7.910400</td>\n",
       "    </tr>\n",
       "    <tr>\n",
       "      <th>50%</th>\n",
       "      <td>446.000000</td>\n",
       "      <td>0.000000</td>\n",
       "      <td>3.000000</td>\n",
       "      <td>28.000000</td>\n",
       "      <td>0.000000</td>\n",
       "      <td>0.000000</td>\n",
       "      <td>14.454200</td>\n",
       "    </tr>\n",
       "    <tr>\n",
       "      <th>75%</th>\n",
       "      <td>668.500000</td>\n",
       "      <td>1.000000</td>\n",
       "      <td>3.000000</td>\n",
       "      <td>38.000000</td>\n",
       "      <td>1.000000</td>\n",
       "      <td>0.000000</td>\n",
       "      <td>31.000000</td>\n",
       "    </tr>\n",
       "    <tr>\n",
       "      <th>max</th>\n",
       "      <td>891.000000</td>\n",
       "      <td>1.000000</td>\n",
       "      <td>3.000000</td>\n",
       "      <td>80.000000</td>\n",
       "      <td>8.000000</td>\n",
       "      <td>6.000000</td>\n",
       "      <td>512.329200</td>\n",
       "    </tr>\n",
       "  </tbody>\n",
       "</table>\n",
       "</div>"
      ],
      "text/plain": [
       "       PassengerId    Survived      Pclass         Age       SibSp  \\\n",
       "count   891.000000  891.000000  891.000000  714.000000  891.000000   \n",
       "mean    446.000000    0.383838    2.308642   29.699118    0.523008   \n",
       "std     257.353842    0.486592    0.836071   14.526497    1.102743   \n",
       "min       1.000000    0.000000    1.000000    0.420000    0.000000   \n",
       "25%     223.500000    0.000000    2.000000   20.125000    0.000000   \n",
       "50%     446.000000    0.000000    3.000000   28.000000    0.000000   \n",
       "75%     668.500000    1.000000    3.000000   38.000000    1.000000   \n",
       "max     891.000000    1.000000    3.000000   80.000000    8.000000   \n",
       "\n",
       "            Parch        Fare  \n",
       "count  891.000000  891.000000  \n",
       "mean     0.381594   32.204208  \n",
       "std      0.806057   49.693429  \n",
       "min      0.000000    0.000000  \n",
       "25%      0.000000    7.910400  \n",
       "50%      0.000000   14.454200  \n",
       "75%      0.000000   31.000000  \n",
       "max      6.000000  512.329200  "
      ]
     },
     "execution_count": 26,
     "metadata": {},
     "output_type": "execute_result"
    }
   ],
   "source": [
    "import pandas as pd\n",
    "import numpy as np\n",
    "\n",
    "# Reading the csv\n",
    "titanic_df = pd.read_csv(\"/home/deploy/pramit/data/titanic/train.csv\")\n",
    "titanic_df.describe()"
   ]
  },
  {
   "cell_type": "code",
   "execution_count": 3,
   "metadata": {},
   "outputs": [
    {
     "name": "stdout",
     "output_type": "stream",
     "text": [
      "   PassengerId  Survived  Pclass  \\\n",
      "0            1         0       3   \n",
      "1            2         1       1   \n",
      "2            3         1       3   \n",
      "3            4         1       1   \n",
      "4            5         0       3   \n",
      "\n",
      "                                                Name     Sex   Age  SibSp  \\\n",
      "0                            Braund, Mr. Owen Harris    male  22.0      1   \n",
      "1  Cumings, Mrs. John Bradley (Florence Briggs Th...  female  38.0      1   \n",
      "2                             Heikkinen, Miss. Laina  female  26.0      0   \n",
      "3       Futrelle, Mrs. Jacques Heath (Lily May Peel)  female  35.0      1   \n",
      "4                           Allen, Mr. William Henry    male  35.0      0   \n",
      "\n",
      "   Parch            Ticket     Fare Cabin Embarked  Sex_Encoded  \\\n",
      "0      0         A/5 21171   7.2500   NaN        S            1   \n",
      "1      0          PC 17599  71.2833   C85        C            0   \n",
      "2      0  STON/O2. 3101282   7.9250   NaN        S            0   \n",
      "3      0            113803  53.1000  C123        S            0   \n",
      "4      0            373450   8.0500   NaN        S            1   \n",
      "\n",
      "   Embarked_Encoded  \n",
      "0                 2  \n",
      "1                 0  \n",
      "2                 2  \n",
      "3                 2  \n",
      "4                 2  \n",
      "   PassengerId  Survived  Pclass   Age  SibSp  Parch     Fare  Sex_Encoded  \\\n",
      "0            1         0       3  22.0      1      0   7.2500            1   \n",
      "1            2         1       1  38.0      1      0  71.2833            0   \n",
      "2            3         1       3  26.0      0      0   7.9250            0   \n",
      "3            4         1       1  35.0      1      0  53.1000            0   \n",
      "4            5         0       3  35.0      0      0   8.0500            1   \n",
      "\n",
      "   Embarked_Encoded  \n",
      "0                 2  \n",
      "1                 0  \n",
      "2                 2  \n",
      "3                 2  \n",
      "4                 2  \n"
     ]
    }
   ],
   "source": [
    "# Quick data transformation and cleaning ...\n",
    "titanic_df[\"Sex\"] = titanic_df[\"Sex\"].astype('category')\n",
    "titanic_df[\"Sex_Encoded\"] = titanic_df[\"Sex\"].cat.codes\n",
    "\n",
    "titanic_df[\"Embarked\"] = titanic_df[\"Embarked\"].astype('category')\n",
    "titanic_df[\"Embarked_Encoded\"] = titanic_df[\"Embarked\"].cat.codes\n",
    "print(titanic_df.head(5))\n",
    "titanic_df_clean = titanic_df.drop(['Ticket','Cabin', 'Name', 'Sex', 'Embarked'], axis=1)\n",
    "# # Remove NaN values\n",
    "titanic_df_clean = titanic_df_clean.dropna() \n",
    "print(titanic_df_clean.head(5))"
   ]
  },
  {
   "cell_type": "code",
   "execution_count": 50,
   "metadata": {},
   "outputs": [],
   "source": [
    "y = titanic_df_clean['Survived']"
   ]
  },
  {
   "cell_type": "code",
   "execution_count": 99,
   "metadata": {},
   "outputs": [
    {
     "name": "stdout",
     "output_type": "stream",
     "text": [
      "   PassengerId  Pclass   Age  SibSp  Parch     Fare  Sex_Encoded  \\\n",
      "0            1       3  22.0      1      0   7.2500            1   \n",
      "1            2       1  38.0      1      0  71.2833            0   \n",
      "2            3       3  26.0      0      0   7.9250            0   \n",
      "3            4       1  35.0      1      0  53.1000            0   \n",
      "4            5       3  35.0      0      0   8.0500            1   \n",
      "\n",
      "   Embarked_Encoded  label  \n",
      "0                 2      0  \n",
      "1                 0      1  \n",
      "2                 2      1  \n",
      "3                 2      1  \n",
      "4                 2      0  \n",
      "<type 'str'>\n",
      "['PassengerId', 'Pclass', 'Age', 'SibSp', 'Parch', 'Fare', 'Sex_Encoded', 'Embarked_Encoded', 'label']\n"
     ]
    }
   ],
   "source": [
    "data = titanic_df_clean.drop(['Survived'], axis=1)\n",
    "data['label'] = y\n",
    "print(data.head())\n",
    "# Lets trying building an Interpretable Model\n",
    "feature_labels = list(data.columns)\n",
    "print(type(feature_labels[0]))\n",
    "print(feature_labels)"
   ]
  },
  {
   "cell_type": "code",
   "execution_count": 100,
   "metadata": {},
   "outputs": [
    {
     "name": "stdout",
     "output_type": "stream",
     "text": [
      "<class 'rpy2.robjects.vectors.DataFrame'>\n"
     ]
    }
   ],
   "source": [
    "from rpy2.robjects import r, pandas2ri\n",
    "pandas2ri.activate()\n",
    "r_data = pandas2ri.py2ri(data)\n",
    "\n",
    "as_factor = ro.r['as.factor']\n",
    "s_apply = ro.r['sapply']\n",
    "frame = ro.r['data.frame']\n",
    "t = frame(s_apply(r_data, as_factor))\n",
    "print(type(t))"
   ]
  },
  {
   "cell_type": "code",
   "execution_count": 101,
   "metadata": {},
   "outputs": [
    {
     "name": "stdout",
     "output_type": "stream",
     "text": [
      "<class 'rpy2.robjects.vectors.DataFrame'>\n"
     ]
    }
   ],
   "source": [
    "print(type(r_data))"
   ]
  },
  {
   "cell_type": "code",
   "execution_count": 102,
   "metadata": {},
   "outputs": [],
   "source": [
    "sbrl = importr('sbrl')"
   ]
  },
  {
   "cell_type": "code",
   "execution_count": 103,
   "metadata": {},
   "outputs": [
    {
     "name": "stdout",
     "output_type": "stream",
     "text": [
      "{'__rpackagename__': 'sbrl', '__rname__': 'sbrl', '_local_env': <rpy2.rinterface.SexpEnvironment - Python:0x7fc45eaebf60 / R:0xa8ba0c8>, '_prm_translate': OrderedDict([('neg_sign', 'neg_sign'), ('minsupport_pos', 'minsupport_pos'), ('pos_sign', 'pos_sign'), ('iters', 'iters'), ('tdata', 'tdata'), ('nchain', 'nchain'), ('rule_minlen', 'rule_minlen'), ('eta', 'eta'), ('rule_maxlen', 'rule_maxlen'), ('minsupport_neg', 'minsupport_neg'), ('alpha', 'alpha'), ('lambda', 'lambda')])}\n"
     ]
    }
   ],
   "source": [
    "print(sbrl.sbrl.__dict__)"
   ]
  },
  {
   "cell_type": "code",
   "execution_count": 146,
   "metadata": {},
   "outputs": [
    {
     "name": "stdout",
     "output_type": "stream",
     "text": [
      "Eclat\n",
      "\n",
      "parameter specification:\n",
      " tidLists support minlen maxlen            target   ext\n",
      "    FALSE     0.1      1      3 frequent itemsets FALSE\n",
      "\n",
      "algorithmic control:\n",
      " sparse sort verbose\n",
      "      7   -2    TRUE\n",
      "\n",
      "Absolute minimum support count: 29 \n",
      "\n",
      "create itemset ... \n",
      "set transactions ...[514 item(s), 290 transaction(s)] done [0.00s].\n",
      "sorting and recoding items ... [12 item(s)] done [0.00s].\n",
      "creating bit matrix ... [12 row(s), 290 column(s)] done [0.00s].\n",
      "writing  ... [89 set(s)] done [0.00s].\n",
      "Creating S4 object  ... done [0.00s].\n",
      "Eclat\n",
      "\n",
      "parameter specification:\n",
      " tidLists support minlen maxlen            target   ext\n",
      "    FALSE     0.1      1      3 frequent itemsets FALSE\n",
      "\n",
      "algorithmic control:\n",
      " sparse sort verbose\n",
      "      7   -2    TRUE\n",
      "\n",
      "Absolute minimum support count: 42 \n",
      "\n",
      "create itemset ... \n",
      "set transactions ...[673 item(s), 424 transaction(s)] done [0.00s].\n",
      "sorting and recoding items ... [11 item(s)] done [0.00s].\n",
      "creating bit matrix ... [11 row(s), 424 column(s)] done [0.00s].\n",
      "writing  ... [55 set(s)] done [0.00s].\n",
      "Creating S4 object  ... done [0.00s].\n",
      "The rules list is : \n",
      "If      {Pclass=3,Sex_Encoded=0} (rule[60]) then positive probability = 0.46153846\n",
      "else if {Sex_Encoded=0} (rule[72]) then positive probability = 0.93788820\n",
      "else if {Pclass=1} (rule[38]) then positive probability = 0.39805825\n",
      "else if {Parch=0} (rule[10]) then positive probability = 0.12328767\n",
      "else  (default rule)  then positive probability = 0.29687500\n",
      "\n"
     ]
    }
   ],
   "source": [
    "%timeit\n",
    "model = sbrl.sbrl(t, iters=50000, \n",
    "                  pos_sign=1, neg_sign=0, rule_minlen=1, \n",
    "                  rule_maxlen=3, minsupport_pos=0.10, minsupport_neg=0.10, eta=1.0, nchain=40)\n",
    "print(model)"
   ]
  },
  {
   "cell_type": "code",
   "execution_count": 133,
   "metadata": {},
   "outputs": [],
   "source": [
    "result_r_frame = ro.r.predict(model, t)"
   ]
  },
  {
   "cell_type": "code",
   "execution_count": 134,
   "metadata": {},
   "outputs": [
    {
     "name": "stdout",
     "output_type": "stream",
     "text": [
      "<class 'rpy2.robjects.vectors.ListVector'>\n"
     ]
    }
   ],
   "source": [
    "print(type(result_r_frame))"
   ]
  },
  {
   "cell_type": "code",
   "execution_count": 135,
   "metadata": {},
   "outputs": [
    {
     "data": {
      "text/html": [
       "<div>\n",
       "<style>\n",
       "    .dataframe thead tr:only-child th {\n",
       "        text-align: right;\n",
       "    }\n",
       "\n",
       "    .dataframe thead th {\n",
       "        text-align: left;\n",
       "    }\n",
       "\n",
       "    .dataframe tbody tr th {\n",
       "        vertical-align: top;\n",
       "    }\n",
       "</style>\n",
       "<table border=\"1\" class=\"dataframe\">\n",
       "  <thead>\n",
       "    <tr style=\"text-align: right;\">\n",
       "      <th></th>\n",
       "      <th>0</th>\n",
       "      <th>1</th>\n",
       "      <th>2</th>\n",
       "      <th>3</th>\n",
       "      <th>4</th>\n",
       "      <th>5</th>\n",
       "      <th>6</th>\n",
       "      <th>7</th>\n",
       "      <th>8</th>\n",
       "      <th>9</th>\n",
       "      <th>...</th>\n",
       "      <th>704</th>\n",
       "      <th>705</th>\n",
       "      <th>706</th>\n",
       "      <th>707</th>\n",
       "      <th>708</th>\n",
       "      <th>709</th>\n",
       "      <th>710</th>\n",
       "      <th>711</th>\n",
       "      <th>712</th>\n",
       "      <th>713</th>\n",
       "    </tr>\n",
       "  </thead>\n",
       "  <tbody>\n",
       "    <tr>\n",
       "      <th>0</th>\n",
       "      <td>0.876712</td>\n",
       "      <td>0.062112</td>\n",
       "      <td>0.538462</td>\n",
       "      <td>0.062112</td>\n",
       "      <td>0.876712</td>\n",
       "      <td>0.601942</td>\n",
       "      <td>0.703125</td>\n",
       "      <td>0.538462</td>\n",
       "      <td>0.062112</td>\n",
       "      <td>0.538462</td>\n",
       "      <td>...</td>\n",
       "      <td>0.062112</td>\n",
       "      <td>0.876712</td>\n",
       "      <td>0.538462</td>\n",
       "      <td>0.876712</td>\n",
       "      <td>0.876712</td>\n",
       "      <td>0.538462</td>\n",
       "      <td>0.876712</td>\n",
       "      <td>0.062112</td>\n",
       "      <td>0.601942</td>\n",
       "      <td>0.876712</td>\n",
       "    </tr>\n",
       "    <tr>\n",
       "      <th>1</th>\n",
       "      <td>0.123288</td>\n",
       "      <td>0.937888</td>\n",
       "      <td>0.461538</td>\n",
       "      <td>0.937888</td>\n",
       "      <td>0.123288</td>\n",
       "      <td>0.398058</td>\n",
       "      <td>0.296875</td>\n",
       "      <td>0.461538</td>\n",
       "      <td>0.937888</td>\n",
       "      <td>0.461538</td>\n",
       "      <td>...</td>\n",
       "      <td>0.937888</td>\n",
       "      <td>0.123288</td>\n",
       "      <td>0.461538</td>\n",
       "      <td>0.123288</td>\n",
       "      <td>0.123288</td>\n",
       "      <td>0.461538</td>\n",
       "      <td>0.123288</td>\n",
       "      <td>0.937888</td>\n",
       "      <td>0.398058</td>\n",
       "      <td>0.123288</td>\n",
       "    </tr>\n",
       "  </tbody>\n",
       "</table>\n",
       "<p>2 rows × 714 columns</p>\n",
       "</div>"
      ],
      "text/plain": [
       "        0         1         2         3         4         5         6    \\\n",
       "0  0.876712  0.062112  0.538462  0.062112  0.876712  0.601942  0.703125   \n",
       "1  0.123288  0.937888  0.461538  0.937888  0.123288  0.398058  0.296875   \n",
       "\n",
       "        7         8         9      ...          704       705       706  \\\n",
       "0  0.538462  0.062112  0.538462    ...     0.062112  0.876712  0.538462   \n",
       "1  0.461538  0.937888  0.461538    ...     0.937888  0.123288  0.461538   \n",
       "\n",
       "        707       708       709       710       711       712       713  \n",
       "0  0.876712  0.876712  0.538462  0.876712  0.062112  0.601942  0.876712  \n",
       "1  0.123288  0.123288  0.461538  0.123288  0.937888  0.398058  0.123288  \n",
       "\n",
       "[2 rows x 714 columns]"
      ]
     },
     "execution_count": 135,
     "metadata": {},
     "output_type": "execute_result"
    }
   ],
   "source": [
    "pandas_df = pandas2ri.ri2py_dataframe(result_r_frame)\n",
    "pandas_df.head()"
   ]
  },
  {
   "cell_type": "code",
   "execution_count": 137,
   "metadata": {},
   "outputs": [
    {
     "name": "stdout",
     "output_type": "stream",
     "text": [
      "<class 'pandas.core.frame.DataFrame'>\n"
     ]
    }
   ],
   "source": [
    "predicted_scores_prob = pd.DataFrame(pandas_df.values.T)\n",
    "print(type(predicted_scores_prob))"
   ]
  },
  {
   "cell_type": "code",
   "execution_count": 138,
   "metadata": {},
   "outputs": [
    {
     "name": "stdout",
     "output_type": "stream",
     "text": [
      "(714,)\n",
      "(714, 2)\n"
     ]
    }
   ],
   "source": [
    "print(y.shape)\n",
    "print(predicted_scores_prob.shape)"
   ]
  },
  {
   "cell_type": "code",
   "execution_count": 139,
   "metadata": {},
   "outputs": [
    {
     "data": {
      "text/plain": [
       "(714,)"
      ]
     },
     "execution_count": 139,
     "metadata": {},
     "output_type": "execute_result"
    }
   ],
   "source": [
    "predicted_scores_prob[0].shape"
   ]
  },
  {
   "cell_type": "code",
   "execution_count": 140,
   "metadata": {},
   "outputs": [],
   "source": [
    "#from sklearn.metrics import roc_auc_score\n",
    "from sklearn import metrics\n",
    "fpr, tpr, thresholds = metrics.roc_curve(y ,predicted_scores_prob[1], pos_label=1)"
   ]
  },
  {
   "cell_type": "code",
   "execution_count": 141,
   "metadata": {},
   "outputs": [
    {
     "name": "stdout",
     "output_type": "stream",
     "text": [
      "0.843900455433\n"
     ]
    }
   ],
   "source": [
    "roc_auc = metrics.auc(fpr, tpr)\n",
    "print(roc_auc)"
   ]
  },
  {
   "cell_type": "code",
   "execution_count": 142,
   "metadata": {
    "collapsed": true
   },
   "outputs": [],
   "source": [
    "from sklearn.ensemble import RandomForestClassifier"
   ]
  },
  {
   "cell_type": "code",
   "execution_count": 143,
   "metadata": {},
   "outputs": [
    {
     "name": "stdout",
     "output_type": "stream",
     "text": [
      "     0    1\n",
      "0  0.8  0.2\n",
      "1  0.2  0.8\n",
      "2  0.1  0.9\n",
      "3  0.2  0.8\n",
      "4  1.0  0.0\n",
      "0.999113532856\n"
     ]
    }
   ],
   "source": [
    "ytrain = data['label']\n",
    "Xtrain = data.drop(['label'], axis=1)\n",
    "rf_model = RandomForestClassifier().fit(Xtrain, ytrain)\n",
    "rf_predict_score = pd.DataFrame(rf_model.predict_proba(Xtrain))\n",
    "print(rf_predict_score).head()\n",
    "\n",
    "rf_predict_score[0].head()\n",
    "rf_fpr, rf_tpr, rf_thresholds = metrics.roc_curve(ytrain, rf_predict_score[1], pos_label=1)\n",
    "rf_roc_auc = metrics.auc(rf_fpr, rf_tpr)\n",
    "print(rf_roc_auc)"
   ]
  },
  {
   "cell_type": "code",
   "execution_count": null,
   "metadata": {
    "collapsed": true
   },
   "outputs": [],
   "source": []
  }
 ],
 "metadata": {
  "kernelspec": {
   "display_name": "Python 2",
   "language": "python",
   "name": "python2"
  },
  "language_info": {
   "codemirror_mode": {
    "name": "ipython",
    "version": 2
   },
   "file_extension": ".py",
   "mimetype": "text/x-python",
   "name": "python",
   "nbconvert_exporter": "python",
   "pygments_lexer": "ipython2",
   "version": "2.7.6"
  },
  "toc": {
   "colors": {
    "hover_highlight": "#DAA520",
    "running_highlight": "#FF0000",
    "selected_highlight": "#FFD700"
   },
   "moveMenuLeft": true,
   "nav_menu": {
    "height": "12px",
    "width": "252px"
   },
   "navigate_menu": true,
   "number_sections": false,
   "sideBar": false,
   "threshold": 4,
   "toc_cell": true,
   "toc_position": {
    "height": "40px",
    "left": "1240px",
    "right": "20px",
    "top": "154px",
    "width": "189px"
   },
   "toc_section_display": "none",
   "toc_window_display": false
  }
 },
 "nbformat": 4,
 "nbformat_minor": 2
}
