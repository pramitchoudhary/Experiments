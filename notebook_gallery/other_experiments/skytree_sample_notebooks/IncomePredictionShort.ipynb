{
 "cells": [
  {
   "cell_type": "markdown",
   "metadata": {},
   "source": [
    "## Authenticate"
   ]
  },
  {
   "cell_type": "code",
   "execution_count": null,
   "metadata": {
    "collapsed": false
   },
   "outputs": [],
   "source": [
    "# SETUP\n",
    "import sys, skytree, skytree.prediction\n",
    "from skytree import Dataset\n",
    "from skytree.prediction import gbt\n",
    "\n",
    "import pandas, getpass\n",
    "\n",
    "server = \"localhost\"\n",
    "hostname = 'http://{0}:8080/v1'.format(server);\n",
    "email = \"trial@skytree.net\"\n",
    "datadir = \"/user/skytree/datasets\"\n",
    "\n",
    "# Authenticate\n",
    "help(skytree.authenticate)\n",
    "skytree.authenticate(email, getpass.getpass(), hostname)\n"
   ]
  },
  {
   "cell_type": "markdown",
   "metadata": {},
   "source": [
    "## Create a project"
   ]
  },
  {
   "cell_type": "code",
   "execution_count": null,
   "metadata": {
    "collapsed": false
   },
   "outputs": [],
   "source": [
    "help(skytree.create_project)\n",
    "project = skytree.create_project(\"My First SDK Project\", \"Income prediction dataset\")\n",
    "print project"
   ]
  },
  {
   "cell_type": "markdown",
   "metadata": {},
   "source": [
    "## Load/Create a Dataset"
   ]
  },
  {
   "cell_type": "code",
   "execution_count": null,
   "metadata": {
    "collapsed": false
   },
   "outputs": [],
   "source": [
    "# Next we will create a dataset in the project\n",
    "help(project.create_dataset)\n",
    "\n",
    "# create a dataset in the project from a file on the VM\n",
    "IncomeData = project.create_dataset(\n",
    "    path = '/home/skytree/datasets/income.data.small', \n",
    "    has_header = True, \n",
    "    missing_value = \"?\")\n",
    "\n",
    "for dataset in project.list_datasets():\n",
    "    print dataset.summary()"
   ]
  },
  {
   "cell_type": "code",
   "execution_count": null,
   "metadata": {
    "collapsed": false
   },
   "outputs": [],
   "source": [
    "# Get information about the dataset, it's columns, statistics, column types etc.\n",
    "IncomeData.ready() # Wait for dataset object to be ready on the backend\n",
    "print pandas.DataFrame(IncomeData.columns)"
   ]
  },
  {
   "cell_type": "markdown",
   "metadata": {},
   "source": [
    "## Build a classification model"
   ]
  },
  {
   "cell_type": "code",
   "execution_count": null,
   "metadata": {
    "collapsed": true
   },
   "outputs": [],
   "source": [
    "# Automodel: Skytree Infinity can automatically find the best model for the given target variable\n",
    "# The default configuration below will build 100 distinct models and pick the most accurate\n",
    "model = skytree.prediction.learn(IncomeData, objective_column = 'yearly-income')"
   ]
  },
  {
   "cell_type": "code",
   "execution_count": null,
   "metadata": {
    "collapsed": false
   },
   "outputs": [],
   "source": [
    "model.ready() # Wait for model to get ready\n",
    "print model.summary()"
   ]
  },
  {
   "cell_type": "markdown",
   "metadata": {},
   "source": [
    "## Make predictions on test dataset using model"
   ]
  },
  {
   "cell_type": "code",
   "execution_count": null,
   "metadata": {
    "collapsed": false
   },
   "outputs": [],
   "source": [
    "# Make predictions on test data\n",
    "IncomeTest = project.create_dataset(\n",
    "    path = '/home/skytree/datasets/income.test', \n",
    "    has_header = True, \n",
    "    missing_value = \"?\").ready()\n",
    "IncomeTestWithId = IncomeTest.add_unique_id_column(\"id\").ready() # Prediction requires a test dataset to have id's\n",
    "\n",
    "# Use model to make predictions on the test set\n",
    "results = model.test(IncomeTestWithId)\n",
    "# Wait for results to complete on the server\n",
    "results.ready()      "
   ]
  },
  {
   "cell_type": "markdown",
   "metadata": {},
   "source": [
    "## Download predictions"
   ]
  },
  {
   "cell_type": "code",
   "execution_count": null,
   "metadata": {
    "collapsed": false
   },
   "outputs": [],
   "source": [
    "# Print generalization error to view model accuracy on validation/test dataset\n",
    "print \"\\n\" + results.summary()\n",
    "\n",
    "# Download and save predicted probabilities to a local file\n",
    "probs_file = open(\"probabilities.csv\", \"w\")   # This will get written to /home/skytree on the VM \n",
    "for (id, probability) in results.get_probabilities(): probs_file.write(\"%s,%f\\n\"%(id, probability))\n",
    "probs_file.close()"
   ]
  }
 ],
 "metadata": {
  "kernelspec": {
   "display_name": "Python 2",
   "language": "python",
   "name": "python2"
  },
  "language_info": {
   "codemirror_mode": {
    "name": "ipython",
    "version": 2
   },
   "file_extension": ".py",
   "mimetype": "text/x-python",
   "name": "python",
   "nbconvert_exporter": "python",
   "pygments_lexer": "ipython2",
   "version": "2.7.10"
  }
 },
 "nbformat": 4,
 "nbformat_minor": 0
}
