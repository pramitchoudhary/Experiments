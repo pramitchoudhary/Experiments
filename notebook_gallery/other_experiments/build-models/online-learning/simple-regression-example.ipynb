{
 "cells": [
  {
   "cell_type": "code",
   "execution_count": 116,
   "metadata": {
    "collapsed": true
   },
   "outputs": [],
   "source": [
    "import numpy as np\n",
    "from scipy.stats import norm\n",
    "from statsmodels.regression.linear_model import OLS"
   ]
  },
  {
   "cell_type": "code",
   "execution_count": 117,
   "metadata": {
    "collapsed": false
   },
   "outputs": [],
   "source": [
    "dim = 3\n",
    "N = 1000\n",
    "constants = np.ones(N).reshape(N,1)\n",
    "var = norm(0, 1).rvs((N, dim))\n",
    "X = np.concatenate((constants, var), axis = 1)\n",
    "b0 = 1.2 * np.ones(dim)\n",
    "b1 = -.9 * np.ones(dim)\n",
    "b2 = 2.7 * np.ones(dim)\n",
    "\n",
    "B = np.array(norm(0, 5).rvs(dim + 1)).reshape(dim + 1, 1)\n",
    "e = norm(0, 5)\n",
    "y = (np.dot(B.T,X.T) + e.rvs(N)).reshape(N)"
   ]
  },
  {
   "cell_type": "code",
   "execution_count": 118,
   "metadata": {
    "collapsed": false
   },
   "outputs": [],
   "source": [
    "class OnlineRegression(object):\n",
    "    def __init__(self, dim):\n",
    "        self.w = np.zeros(dim)\n",
    "        self.gamma = np.identity(dim)\n",
    "    \n",
    "    def update(self, x, y):\n",
    "        numerator = self.gamma * x * x.T * self.gamma\n",
    "        denominator = 1 + x.T * self.gamma * x\n",
    "        self.gamma = self.gamma - numerator / denominator\n",
    "        \n",
    "        self.w = self.w - self.gamma * x * (x.T * self.w - y)\n",
    "        \n",
    "    "
   ]
  },
  {
   "cell_type": "code",
   "execution_count": 121,
   "metadata": {
    "collapsed": false
   },
   "outputs": [],
   "source": [
    "reg = OnlineRegression(4)\n",
    "for i in range(N):\n",
    "    reg.update(X[i].reshape((dim+1,1)),np.array([y[i]]).reshape(1,1))\n",
    "    \n",
    "mod = OLS(y, X)\n",
    "res = mod.fit()    "
   ]
  },
  {
   "cell_type": "code",
   "execution_count": 122,
   "metadata": {
    "collapsed": false
   },
   "outputs": [
    {
     "name": "stdout",
     "output_type": "stream",
     "text": [
      "true params: [-4.5115762  -6.74543601  3.38123103  4.08243683]\n",
      "\n",
      "online params: [-4.38579869 -6.4153256   3.14261077  4.23708842]\n",
      "\n",
      "OLS params: [-4.39685674 -6.59708334  3.2617021   4.12378786]\n"
     ]
    }
   ],
   "source": [
    "print 'true params: {}'.format(B.reshape(dim + 1))\n",
    "print\n",
    "print 'online params: {}'.format(reg.w.diagonal())\n",
    "print\n",
    "print 'OLS params: {}'.format(res.params)"
   ]
  },
  {
   "cell_type": "code",
   "execution_count": null,
   "metadata": {
    "collapsed": false
   },
   "outputs": [],
   "source": []
  },
  {
   "cell_type": "code",
   "execution_count": null,
   "metadata": {
    "collapsed": true
   },
   "outputs": [],
   "source": []
  }
 ],
 "metadata": {
  "kernelspec": {
   "display_name": "Python 2",
   "language": "python",
   "name": "python2"
  },
  "language_info": {
   "codemirror_mode": {
    "name": "ipython",
    "version": 2
   },
   "file_extension": ".py",
   "mimetype": "text/x-python",
   "name": "python",
   "nbconvert_exporter": "python",
   "pygments_lexer": "ipython2",
   "version": "2.7.6"
  }
 },
 "nbformat": 4,
 "nbformat_minor": 0
}
