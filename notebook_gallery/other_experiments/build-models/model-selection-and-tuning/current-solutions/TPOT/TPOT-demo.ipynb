{
 "cells": [
  {
   "cell_type": "code",
   "execution_count": 2,
   "metadata": {
    "_datascience": {},
    "collapsed": false
   },
   "outputs": [
    {
     "data": {
      "text/html": [
       "\n",
       "        <iframe\n",
       "            width=\"1000\"\n",
       "            height=\"1000\"\n",
       "            src=\"https://github.com/rhiever/tpot\"\n",
       "            frameborder=\"0\"\n",
       "            allowfullscreen\n",
       "        ></iframe>\n",
       "        "
      ],
      "text/plain": [
       "<IPython.lib.display.IFrame at 0x7f3b70e046d0>"
      ]
     },
     "execution_count": 2,
     "metadata": {},
     "output_type": "execute_result"
    }
   ],
   "source": [
    "from IPython import display\n",
    "URL = \"https://github.com/rhiever/tpot\"\n",
    "display.IFrame(URL, 1000, 1000)\n"
   ]
  },
  {
   "cell_type": "markdown",
   "metadata": {
    "_datascience": {}
   },
   "source": [
    "TPOT uses a genetic algorithm (implemented with DEAP library) to pick an optimal pipeline for a regression task.\n",
    "\n",
    "What is a pipeline?\n",
    "\n",
    "Pipeline is composed of preprocessors:\n",
    "* take polynomial transformations of features\n",
    "* \n",
    "\n",
    "\n",
    "TPOTBase is key class\n",
    "\n",
    "parameters:\n",
    "\n",
    "population_size: int (default: 100)\n",
    "            The number of pipelines in the genetic algorithm population. Must\n",
    "            be > 0.The more pipelines in the population, the slower TPOT will\n",
    "            run, but it's also more likely to find better pipelines.\n",
    "* generations: int (default: 100)\n",
    "    The number of generations to run pipeline optimization for. Must\n",
    "    be > 0. The more generations you give TPOT to run, the longer it\n",
    "    takes, but it's also more likely to find better pipelines.\n",
    "* mutation_rate: float (default: 0.9)\n",
    "    The mutation rate for the genetic programming algorithm in the range\n",
    "    [0.0, 1.0]. This tells the genetic programming algorithm how many\n",
    "    pipelines to apply random changes to every generation. We don't\n",
    "    recommend that you tweak this parameter unless you know what you're\n",
    "    doing.\n",
    "* crossover_rate: float (default: 0.05)\n",
    "    The crossover rate for the genetic programming algorithm in the\n",
    "    range [0.0, 1.0]. This tells the genetic programming algorithm how\n",
    "    many pipelines to \"breed\" every generation. We don't recommend that\n",
    "    you tweak this parameter unless you know what you're doing.\n",
    "* scoring: function or str\n",
    "    Function used to evaluate the quality of a given pipeline for the\n",
    "    problem. By default, balanced class accuracy is used for\n",
    "    classification problems, mean squared error for regression problems.\n",
    "    TPOT assumes that this scoring function should be maximized, i.e.,\n",
    "    higher is better.\n",
    "    Offers the same options as sklearn.cross_validation.cross_val_score:\n",
    "    ['accuracy', 'adjusted_rand_score', 'average_precision', 'f1',\n",
    "    'f1_macro', 'f1_micro', 'f1_samples', 'f1_weighted',\n",
    "    'precision', 'precision_macro', 'precision_micro', 'precision_samples',\n",
    "    'precision_weighted', 'r2', 'recall', 'recall_macro', 'recall_micro',\n",
    "    'recall_samples', 'recall_weighted', 'roc_auc']\n",
    "* num_cv_folds: int (default: 3)\n",
    "    The number of folds to evaluate each pipeline over in k-fold\n",
    "    cross-validation during the TPOT pipeline optimization process\n",
    "* max_time_mins: int (default: None)\n",
    "    How many minutes TPOT has to optimize the pipeline. If not None,\n",
    "    this setting will override the `generations` parameter.\n",
    "\n",
    "TPOTClassifier and TPOTRegressor inherit parent class TPOTBase, with modifications of the scoring function."
   ]
  },
  {
   "cell_type": "code",
   "execution_count": 1,
   "metadata": {
    "_datascience": {},
    "collapsed": false
   },
   "outputs": [
    {
     "name": "stdout",
     "output_type": "stream",
     "text": [
      "Collecting deap\n",
      "  Downloading deap-1.0.2.post2.tar.gz (852kB)\n",
      "\u001b[K    100% |################################| 856kB 722kB/s \n",
      "\u001b[?25hCollecting update-checker\n",
      "  Downloading update_checker-0.12-py2.py3-none-any.whl\n",
      "Collecting tqdm\n",
      "  Downloading tqdm-4.8.4-py2.py3-none-any.whl\n",
      "Requirement already satisfied (use --upgrade to upgrade): requests>=2.3.0 in /usr/local/lib/python2.7/dist-packages (from update-checker)\n",
      "Building wheels for collected packages: deap\n",
      "  Running setup.py bdist_wheel for deap\n",
      "  Stored in directory: /root/.cache/pip/wheels/c9/9c/cd/d52106f0148e675df35718c0efff2ecf03cc86d5bdcfb91db5\n",
      "Successfully built deap\n",
      "Installing collected packages: deap, update-checker, tqdm\n",
      "Successfully installed deap-1.0.2 tqdm-4.8.4 update-checker-0.12\n",
      "\u001b[33mYou are using pip version 7.1.2, however version 8.1.2 is available.\n",
      "You should consider upgrading via the 'pip install --upgrade pip' command.\u001b[0m\n"
     ]
    }
   ],
   "source": [
    "!sudo pip install deap update_checker tqdm xgboost tpot"
   ]
  },
  {
   "cell_type": "code",
   "execution_count": 3,
   "metadata": {
    "_datascience": {},
    "collapsed": false
   },
   "outputs": [
    {
     "name": "stderr",
     "output_type": "stream",
     "text": [
      "/usr/local/lib/python2.7/dist-packages/matplotlib/__init__.py:872: UserWarning: axes.color_cycle is deprecated and replaced with axes.prop_cycle; please use the latter.\n",
      "  warnings.warn(self.msg_depr % (key, alt_key))\n"
     ]
    }
   ],
   "source": [
    "import pandas as pd \n",
    "import numpy as np\n",
    "import psycopg2 \n",
    "import os\n",
    "import json\n",
    "from tpot import TPOTClassifier\n",
    "from sklearn.metrics import classification_report"
   ]
  },
  {
   "cell_type": "code",
   "execution_count": 4,
   "metadata": {
    "_datascience": {},
    "collapsed": true
   },
   "outputs": [],
   "source": [
    "conn = psycopg2.connect(\n",
    "    user = os.environ['REDSHIFT_USER']\n",
    "    ,password = os.environ['REDSHIFT_PASS']    \n",
    "    ,port = os.environ['REDSHIFT_PORT']\n",
    "    ,host = os.environ['REDSHIFT_HOST']\n",
    "    ,database = 'tradesy'\n",
    ")\n",
    "query = \"\"\"\n",
    "    select \n",
    "        purchase_dummy\n",
    "        ,shipping_price_ratio\n",
    "        ,asking_price\n",
    "        ,price_level\n",
    "        ,brand_score\n",
    "        ,brand_size\n",
    "        ,a_over_b\n",
    "        ,favorite_count\n",
    "        ,has_blurb\n",
    "        ,has_image\n",
    "        ,seasonal_component\n",
    "        ,description_length\n",
    "        ,product_category_accessories\n",
    "        ,product_category_shoes\n",
    "        ,product_category_bags\n",
    "        ,product_category_tops\n",
    "        ,product_category_dresses\n",
    "        ,product_category_weddings\n",
    "        ,product_category_bottoms\n",
    "        ,product_category_outerwear\n",
    "        ,product_category_jeans\n",
    "        ,product_category_activewear\n",
    "        ,product_category_suiting\n",
    "        ,product_category_swim\n",
    "        \n",
    "    from saleability_model_v2\n",
    "     \n",
    "    limit 50000\n",
    "    \n",
    "\"\"\"\n",
    "\n",
    "df = pd.read_sql(query, conn)"
   ]
  },
  {
   "cell_type": "code",
   "execution_count": 5,
   "metadata": {
    "_datascience": {},
    "collapsed": true
   },
   "outputs": [],
   "source": [
    "target = 'purchase_dummy'\n",
    "domain = filter(lambda x: x != target, df.columns.values)\n",
    "df = df.astype(float)\n",
    "\n",
    "y_all = df[target].values\n",
    "X_all = df[domain].values\n",
    "\n",
    "idx_all = np.random.RandomState(1).permutation(len(y_all))\n",
    "idx_train = idx_all[:int(.8 * len(y_all))]\n",
    "idx_test = idx_all[int(.8 *  len(y_all)):]\n",
    "\n",
    "# TRAIN AND TEST DATA\n",
    "X_train = X_all[idx_train]\n",
    "y_train = y_all[idx_train]\n",
    "X_test = X_all[idx_test]\n",
    "y_test = y_all[idx_test]"
   ]
  },
  {
   "cell_type": "markdown",
   "metadata": {
    "_datascience": {}
   },
   "source": [
    "### Sklearn model: "
   ]
  },
  {
   "cell_type": "code",
   "execution_count": 6,
   "metadata": {
    "_datascience": {},
    "collapsed": false
   },
   "outputs": [
    {
     "data": {
      "text/plain": [
       "RandomForestClassifier(bootstrap=True, class_weight=None, criterion='gini',\n",
       "            max_depth=None, max_features='auto', max_leaf_nodes=None,\n",
       "            min_samples_leaf=1, min_samples_split=2,\n",
       "            min_weight_fraction_leaf=0.0, n_estimators=10, n_jobs=1,\n",
       "            oob_score=False, random_state=None, verbose=0,\n",
       "            warm_start=False)"
      ]
     },
     "execution_count": 6,
     "metadata": {},
     "output_type": "execute_result"
    }
   ],
   "source": [
    "from sklearn.ensemble import RandomForestClassifier\n",
    "sklearn_model = RandomForestClassifier()\n",
    "sklearn_model.fit(X_train, y_train)"
   ]
  },
  {
   "cell_type": "code",
   "execution_count": 7,
   "metadata": {
    "_datascience": {},
    "collapsed": false
   },
   "outputs": [
    {
     "name": "stdout",
     "output_type": "stream",
     "text": [
      "             precision    recall  f1-score   support\n",
      "\n",
      "        0.0       0.86      0.96      0.91      8260\n",
      "        1.0       0.60      0.27      0.37      1740\n",
      "\n",
      "avg / total       0.82      0.84      0.82     10000\n",
      "\n"
     ]
    }
   ],
   "source": [
    "sklearn_predictions = sklearn_model.predict(X_test)\n",
    "print classification_report(y_test, sklearn_predictions)"
   ]
  },
  {
   "cell_type": "markdown",
   "metadata": {
    "_datascience": {}
   },
   "source": [
    "### TPOT Classifier"
   ]
  },
  {
   "cell_type": "code",
   "execution_count": 14,
   "metadata": {
    "_datascience": {},
    "collapsed": false
   },
   "outputs": [
    {
     "name": "stderr",
     "output_type": "stream",
     "text": [
      "GP Progress:  90%|█████████ | 18/20 [09:47<01:56, 58.40s/pipeline]"
     ]
    },
    {
     "name": "stdout",
     "output_type": "stream",
     "text": [
      "Generation 1 - Current best internal CV score: 0.647821506914\n",
      "Generation 2 - Current best internal CV score: 0.647821506914"
     ]
    },
    {
     "name": "stderr",
     "output_type": "stream",
     "text": [
      "\r",
      "          \r",
      "\r",
      "          \r",
      "GP Progress:  90%|█████████ | 18/20 [00:00<01:56, 58.40s/pipeline]\r",
      "GP Progress:  70%|███████   | 21/30 [10:09<06:28, 43.13s/pipeline]"
     ]
    },
    {
     "name": "stdout",
     "output_type": "stream",
     "text": [
      "\n",
      "GP closed prematurely - will use current best pipeline"
     ]
    },
    {
     "name": "stderr",
     "output_type": "stream",
     "text": [
      "\r",
      "                                                                  "
     ]
    },
    {
     "name": "stdout",
     "output_type": "stream",
     "text": [
      "\n",
      "\n",
      "Best pipeline: XGBClassifier(input_matrix, 32, 6, 0.48999999999999999, 27.0)\n"
     ]
    },
    {
     "name": "stderr",
     "output_type": "stream",
     "text": [
      "\r"
     ]
    }
   ],
   "source": [
    "tpot_model = TPOTClassifier(generations=3, population_size=10, verbosity=2, max_time_mins=10)\n",
    "tpot_model.fit(X_train, y_train)"
   ]
  },
  {
   "cell_type": "code",
   "execution_count": 15,
   "metadata": {
    "_datascience": {},
    "collapsed": false
   },
   "outputs": [
    {
     "name": "stdout",
     "output_type": "stream",
     "text": [
      "             precision    recall  f1-score   support\n",
      "\n",
      "        0.0       0.88      0.93      0.90      8260\n",
      "        1.0       0.54      0.39      0.45      1740\n",
      "\n",
      "avg / total       0.82      0.84      0.82     10000\n",
      "\n"
     ]
    }
   ],
   "source": [
    "tpot_predictions = tpot_model.predict(X_test)\n",
    "print classification_report(y_test, tpot_predictions)"
   ]
  },
  {
   "cell_type": "markdown",
   "metadata": {
    "_datascience": {}
   },
   "source": [
    "### Export Pseudo Pipeline Code"
   ]
  },
  {
   "cell_type": "code",
   "execution_count": 17,
   "metadata": {
    "_datascience": {},
    "collapsed": true
   },
   "outputs": [],
   "source": [
    "tpot_model.export('optimal-saleability-model.py')"
   ]
  },
  {
   "cell_type": "code",
   "execution_count": 18,
   "metadata": {
    "_datascience": {},
    "collapsed": false
   },
   "outputs": [
    {
     "name": "stdout",
     "output_type": "stream",
     "text": [
      "import numpy as np\r\n",
      "\r\n",
      "from sklearn.cross_validation import train_test_split\r\n",
      "from sklearn.ensemble import VotingClassifier\r\n",
      "from sklearn.pipeline import make_pipeline, make_union\r\n",
      "from sklearn.preprocessing import FunctionTransformer\r\n",
      "from xgboost import XGBClassifier\r\n",
      "\r\n",
      "# NOTE: Make sure that the class is labeled 'class' in the data file\r\n",
      "tpot_data = np.recfromcsv('PATH/TO/DATA/FILE', delimiter='COLUMN_SEPARATOR', dtype=np.float64)\r\n",
      "features = np.delete(tpot_data.view(np.float64).reshape(tpot_data.size, -1), tpot_data.dtype.names.index('class'), axis=1)\r\n",
      "training_features, testing_features, training_classes, testing_classes = \\\r\n",
      "    train_test_split(features, tpot_data['class'], random_state=42)\r\n",
      "\r\n",
      "exported_pipeline = make_pipeline(\r\n",
      "    XGBClassifier(learning_rate=0.49, max_depth=10, min_child_weight=6, n_estimators=500, subsample=1.0)\r\n",
      ")\r\n",
      "\r\n",
      "exported_pipeline.fit(training_features, training_classes)\r\n",
      "results = exported_pipeline.predict(testing_features)\r\n"
     ]
    }
   ],
   "source": [
    "!cat optimal-saleability-model.py"
   ]
  },
  {
   "cell_type": "code",
   "execution_count": null,
   "metadata": {
    "_datascience": {},
    "collapsed": false
   },
   "outputs": [],
   "source": []
  },
  {
   "cell_type": "code",
   "execution_count": null,
   "metadata": {
    "_datascience": {},
    "collapsed": true
   },
   "outputs": [],
   "source": []
  }
 ],
 "metadata": {
  "_datascience": {},
  "kernelspec": {
   "display_name": "Python 2",
   "language": "python",
   "name": "python2"
  },
  "language_info": {
   "codemirror_mode": {
    "name": "ipython",
    "version": 2
   },
   "file_extension": ".py",
   "mimetype": "text/x-python",
   "name": "python",
   "nbconvert_exporter": "python",
   "pygments_lexer": "ipython2",
   "version": "2.7.6"
  }
 },
 "nbformat": 4,
 "nbformat_minor": 0
}
