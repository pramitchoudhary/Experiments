{
 "cells": [
  {
   "cell_type": "code",
   "execution_count": 3,
   "metadata": {
    "_datascience": {},
    "collapsed": false
   },
   "outputs": [
    {
     "name": "stderr",
     "output_type": "stream",
     "text": [
      "/usr/local/lib/python2.7/dist-packages/matplotlib/__init__.py:872: UserWarning: axes.color_cycle is deprecated and replaced with axes.prop_cycle; please use the latter.\n",
      "  warnings.warn(self.msg_depr % (key, alt_key))\n"
     ]
    }
   ],
   "source": [
    "#!sudo pip install pymc3\n",
    "import pymc3 as pm\n",
    "import pandas as pd \n",
    "import numpy as np\n",
    "import psycopg2 \n",
    "import os\n",
    "import json\n",
    "from tpot import TPOTClassifier\n",
    "from sklearn.metrics import classification_report"
   ]
  },
  {
   "cell_type": "code",
   "execution_count": 4,
   "metadata": {
    "_datascience": {},
    "collapsed": true
   },
   "outputs": [],
   "source": [
    "conn = psycopg2.connect(\n",
    "    user = os.environ['REDSHIFT_USER']\n",
    "    ,password = os.environ['REDSHIFT_PASS']    \n",
    "    ,port = os.environ['REDSHIFT_PORT']\n",
    "    ,host = os.environ['REDSHIFT_HOST']\n",
    "    ,database = 'tradesy'\n",
    ")\n",
    "query = \"\"\"\n",
    "    select \n",
    "        purchase_dummy\n",
    "        ,shipping_price_ratio\n",
    "        ,asking_price\n",
    "        ,price_level\n",
    "        ,brand_score\n",
    "        ,brand_size\n",
    "        ,a_over_b\n",
    "        ,favorite_count\n",
    "        ,has_blurb\n",
    "        ,has_image\n",
    "        ,seasonal_component\n",
    "        ,description_length\n",
    "        ,product_category_accessories\n",
    "        ,product_category_shoes\n",
    "        ,product_category_bags\n",
    "        ,product_category_tops\n",
    "        ,product_category_dresses\n",
    "        ,product_category_weddings\n",
    "        ,product_category_bottoms\n",
    "        ,product_category_outerwear\n",
    "        ,product_category_jeans\n",
    "        ,product_category_activewear\n",
    "        ,product_category_suiting\n",
    "        ,product_category_swim\n",
    "        \n",
    "    from saleability_model_v2\n",
    "     \n",
    "    limit 50000\n",
    "    \n",
    "\"\"\"\n",
    "\n",
    "df = pd.read_sql(query, conn)\n",
    "\n",
    "target = 'purchase_dummy'\n",
    "domain = filter(lambda x: x != target, df.columns.values)\n",
    "df = df.astype(float)"
   ]
  },
  {
   "cell_type": "code",
   "execution_count": 25,
   "metadata": {
    "_datascience": {},
    "collapsed": false
   },
   "outputs": [
    {
     "data": {
      "text/plain": [
       "True    1\n",
       "dtype: float64"
      ]
     },
     "execution_count": 25,
     "metadata": {},
     "output_type": "execute_result"
    }
   ],
   "source": [
    "data = df['purchase_dummy']\n",
    "uniques = pd.Series(data.value_counts().index.values)\n",
    "integer_comparison = uniques == uniques.apply(lambda x: int(x))\n",
    "integer_comparison.value_counts(normalize=True)"
   ]
  },
  {
   "cell_type": "code",
   "execution_count": 45,
   "metadata": {
    "_datascience": {},
    "collapsed": false
   },
   "outputs": [],
   "source": [
    "def infer_data_types(df):\n",
    "    data_types = {}\n",
    "    for col in df.columns.values:\n",
    "        data = df[col]\n",
    "        uniques = pd.Series(data.value_counts().index.values)\n",
    "        n_uniques = uniques.shape[0]\n",
    "        \n",
    "        if n_uniques == 1:\n",
    "            Type = 'Constant'\n",
    "            Dist = 'Constant'\n",
    "        elif n_uniques == 2:\n",
    "            Type = 'Binary'\n",
    "            Dist = 'Bernoulli'\n",
    "        \n",
    "        elif n_uniques < 10:\n",
    "            Type = 'Categorical'\n",
    "            Dist = 'general-bernoulli'\n",
    "        else:\n",
    "            integer_comparison = uniques == uniques.apply(lambda x: int(x))\n",
    "            integer_comparison_statistics = integer_comparison.value_counts(normalize=True)\n",
    "            if True in integer_comparison_statistics.index.values:\n",
    "                if integer_comparison_statistics.loc[True] > .9:\n",
    "                    Type = 'Count/Integer'\n",
    "                    Dist = 'Unknown'\n",
    "                else:\n",
    "                    Type = 'Float'\n",
    "                    Dist = \"Unknown\"\n",
    "                    \n",
    "            else:\n",
    "                Type = 'Float'\n",
    "                Dist = \"Unknown\"\n",
    "        data_types[col] = {'Type':Type, 'Dist':Dist}\n",
    "        \n",
    "    return pd.DataFrame(data_types).T"
   ]
  },
  {
   "cell_type": "code",
   "execution_count": 46,
   "metadata": {
    "_datascience": {},
    "collapsed": true
   },
   "outputs": [],
   "source": [
    "data_dict = infer_data_types(df)"
   ]
  },
  {
   "cell_type": "code",
   "execution_count": 62,
   "metadata": {
    "_datascience": {},
    "collapsed": false
   },
   "outputs": [],
   "source": [
    "def data_dictionary_to_pymc_mixture(n_components = 1):\n",
    "    for i in range(len(data_dict)):\n",
    "        row = data_dict.iloc[i]\n",
    "        var_name = data_dict.index.values[i]\n",
    "        Dist, Type = row.loc['Dist'], row.loc['Type']\n",
    "        \n",
    "        if Type == 'Binary':\n",
    "            definiton = \"{} = pm.Bernoulli('{}', p_{}[mixture_component], observed = df['{}'])\".format(*[var_name, var_name,var_name, var_name])\n",
    "            print definiton"
   ]
  },
  {
   "cell_type": "code",
   "execution_count": 63,
   "metadata": {
    "_datascience": {},
    "collapsed": false
   },
   "outputs": [
    {
     "name": "stdout",
     "output_type": "stream",
     "text": [
      "has_blurb = pm.Bernoulli('has_blurb', p_has_blurb[mixture_component], observed = df[has_blurb])\n",
      "has_image = pm.Bernoulli('has_image', p_has_image[mixture_component], observed = df[has_image])\n",
      "product_category_accessories = pm.Bernoulli('product_category_accessories', p_product_category_accessories[mixture_component], observed = df[product_category_accessories])\n",
      "product_category_activewear = pm.Bernoulli('product_category_activewear', p_product_category_activewear[mixture_component], observed = df[product_category_activewear])\n",
      "product_category_bags = pm.Bernoulli('product_category_bags', p_product_category_bags[mixture_component], observed = df[product_category_bags])\n",
      "product_category_bottoms = pm.Bernoulli('product_category_bottoms', p_product_category_bottoms[mixture_component], observed = df[product_category_bottoms])\n",
      "product_category_dresses = pm.Bernoulli('product_category_dresses', p_product_category_dresses[mixture_component], observed = df[product_category_dresses])\n",
      "product_category_jeans = pm.Bernoulli('product_category_jeans', p_product_category_jeans[mixture_component], observed = df[product_category_jeans])\n",
      "product_category_outerwear = pm.Bernoulli('product_category_outerwear', p_product_category_outerwear[mixture_component], observed = df[product_category_outerwear])\n",
      "product_category_shoes = pm.Bernoulli('product_category_shoes', p_product_category_shoes[mixture_component], observed = df[product_category_shoes])\n",
      "product_category_suiting = pm.Bernoulli('product_category_suiting', p_product_category_suiting[mixture_component], observed = df[product_category_suiting])\n",
      "product_category_swim = pm.Bernoulli('product_category_swim', p_product_category_swim[mixture_component], observed = df[product_category_swim])\n",
      "product_category_tops = pm.Bernoulli('product_category_tops', p_product_category_tops[mixture_component], observed = df[product_category_tops])\n",
      "product_category_weddings = pm.Bernoulli('product_category_weddings', p_product_category_weddings[mixture_component], observed = df[product_category_weddings])\n",
      "purchase_dummy = pm.Bernoulli('purchase_dummy', p_purchase_dummy[mixture_component], observed = df[purchase_dummy])\n"
     ]
    }
   ],
   "source": [
    "data_dictionary_to_pymc_mixture(data_dict)"
   ]
  },
  {
   "cell_type": "code",
   "execution_count": 69,
   "metadata": {
    "_datascience": {},
    "collapsed": true
   },
   "outputs": [],
   "source": [
    "df['log_price'] = df.asking_price.apply(lambda x: np.log(x + 1))"
   ]
  },
  {
   "cell_type": "code",
   "execution_count": 94,
   "metadata": {
    "_datascience": {},
    "collapsed": false
   },
   "outputs": [],
   "source": [
    "from sklearn.mixture import GMM\n",
    "model = GMM?"
   ]
  },
  {
   "cell_type": "code",
   "execution_count": 95,
   "metadata": {
    "_datascience": {},
    "collapsed": false
   },
   "outputs": [
    {
     "data": {
      "text/plain": [
       "GMM(covariance_type='diag', init_params='wmc', min_covar=0.001,\n",
       "  n_components=10, n_init=1, n_iter=100, params='wmc', random_state=None,\n",
       "  thresh=None, tol=0.001, verbose=0)"
      ]
     },
     "execution_count": 95,
     "metadata": {},
     "output_type": "execute_result"
    }
   ],
   "source": [
    "model = GMM(10)\n",
    "model.fit(df)"
   ]
  },
  {
   "cell_type": "code",
   "execution_count": 103,
   "metadata": {
    "_datascience": {},
    "collapsed": false
   },
   "outputs": [
    {
     "name": "stderr",
     "output_type": "stream",
     "text": [
      "/usr/local/lib/python2.7/dist-packages/sklearn/utils/validation.py:386: DeprecationWarning: Passing 1d arrays as data is deprecated in 0.17 and willraise ValueError in 0.19. Reshape your data either using X.reshape(-1, 1) if your data has a single feature or X.reshape(1, -1) if it contains a single sample.\n",
      "  DeprecationWarning)\n"
     ]
    },
    {
     "data": {
      "text/plain": [
       "array([1])"
      ]
     },
     "execution_count": 103,
     "metadata": {},
     "output_type": "execute_result"
    }
   ],
   "source": [
    "model.predict(df.iloc[0])"
   ]
  },
  {
   "cell_type": "code",
   "execution_count": 79,
   "metadata": {
    "_datascience": {},
    "collapsed": false
   },
   "outputs": [
    {
     "name": "stderr",
     "output_type": "stream",
     "text": [
      "INFO (theano.gof.compilelock): Refreshing lock /home/deploy/.theano/compiledir_Linux-3.13--generic-x86_64-with-Ubuntu-14.04-trusty-x86_64-2.7.6-64/lock_dir/lock\n",
      "INFO:theano.gof.compilelock:Refreshing lock /home/deploy/.theano/compiledir_Linux-3.13--generic-x86_64-with-Ubuntu-14.04-trusty-x86_64-2.7.6-64/lock_dir/lock\n"
     ]
    },
    {
     "name": "stdout",
     "output_type": "stream",
     "text": [
      "Applied logodds-transform to prior_accessories and added transformed prior_accessories_logodds_ to model.\n",
      "Applied log-transform to ap_sd_prior and added transformed ap_sd_prior_log_ to model.\n"
     ]
    }
   ],
   "source": [
    "n_components = 2\n",
    "with pm.Model() as model:\n",
    "    \n",
    "    #w = pm.Beta('prior_mixture' ,1.0, 1.0, )\n",
    "    mixture_component = pm.Categorical('component', np.ones(n_components) / n_components)\n",
    "    \n",
    "    p_product_category_accessories = pm.Beta('prior_accessories', 1.0, 1.0, shape = n_components)\n",
    "    asking_price_mean = pm.Normal('ap_mean_prior', 1, 1, shape = n_components)\n",
    "    asking_price_sd = pm.HalfCauchy('ap_sd_prior', 1, shape = n_components)\n",
    "    \n",
    "    \n",
    "    product_category_accessories = pm.Bernoulli('product_category_accessories', p_product_category_accessories[mixture_component], observed = df['product_category_accessories'])\n",
    "    asking_price = pm.Normal('asking_price', asking_price_mean[mixture_component], asking_price_sd[mixture_component],observed = df['log_price'])\n",
    "    \n",
    "    "
   ]
  },
  {
   "cell_type": "code",
   "execution_count": 83,
   "metadata": {
    "_datascience": {},
    "collapsed": false
   },
   "outputs": [
    {
     "name": "stderr",
     "output_type": "stream",
     "text": [
      "INFO (theano.gof.compilelock): Refreshing lock /home/deploy/.theano/compiledir_Linux-3.13--generic-x86_64-with-Ubuntu-14.04-trusty-x86_64-2.7.6-64/lock_dir/lock\n",
      "INFO:theano.gof.compilelock:Refreshing lock /home/deploy/.theano/compiledir_Linux-3.13--generic-x86_64-with-Ubuntu-14.04-trusty-x86_64-2.7.6-64/lock_dir/lock\n"
     ]
    },
    {
     "name": "stdout",
     "output_type": "stream",
     "text": [
      "Assigned BinaryGibbsMetropolis to component\n",
      " [-----------------100%-----------------] 2000 of 2000 complete in 29.6 sec"
     ]
    }
   ],
   "source": [
    "with model:\n",
    "    start = pm.find_MAP()\n",
    "    step = pm.NUTS(state=start)\n",
    "    trace = pm.sample(2000, step, start=start, progressbar=True)"
   ]
  },
  {
   "cell_type": "code",
   "execution_count": 86,
   "metadata": {
    "_datascience": {},
    "collapsed": false
   },
   "outputs": [
    {
     "data": {
      "text/plain": [
       "['component',\n",
       " 'prior_accessories_logodds_',\n",
       " 'ap_mean_prior',\n",
       " 'ap_sd_prior_log_',\n",
       " 'prior_accessories',\n",
       " 'ap_sd_prior']"
      ]
     },
     "execution_count": 86,
     "metadata": {},
     "output_type": "execute_result"
    }
   ],
   "source": [
    "trace.varnames"
   ]
  },
  {
   "cell_type": "code",
   "execution_count": 92,
   "metadata": {
    "_datascience": {},
    "collapsed": false
   },
   "outputs": [
    {
     "data": {
      "text/plain": [
       "<matplotlib.axes._subplots.AxesSubplot at 0x7f0db7eed850>"
      ]
     },
     "execution_count": 92,
     "metadata": {},
     "output_type": "execute_result"
    },
    {
     "data": {
      "image/png": "[encoded data removed]",
      "text/plain": [
       "<matplotlib.figure.Figure at 0x7f0db7f5a410>"
      ]
     },
     "metadata": {},
     "output_type": "display_data"
    }
   ],
   "source": [
    "pd.DataFrame(trace.get_values('ap_mean_prior')).plot()"
   ]
  },
  {
   "cell_type": "code",
   "execution_count": 93,
   "metadata": {
    "_datascience": {},
    "collapsed": false
   },
   "outputs": [
    {
     "data": {
      "text/plain": [
       "product_category_accessories\n",
       "0    3.959743\n",
       "1    4.052874\n",
       "Name: log_price, dtype: float64"
      ]
     },
     "execution_count": 93,
     "metadata": {},
     "output_type": "execute_result"
    }
   ],
   "source": [
    "df.groupby('product_category_accessories')['log_price'].mean()"
   ]
  },
  {
   "cell_type": "code",
   "execution_count": 90,
   "metadata": {
    "_datascience": {},
    "collapsed": false
   },
   "outputs": [
    {
     "data": {
      "text/plain": [
       "<matplotlib.axes._subplots.AxesSubplot at 0x7f0db7f324d0>"
      ]
     },
     "execution_count": 90,
     "metadata": {},
     "output_type": "execute_result"
    },
    {
     "data": {
      "image/png": "[encoded data removed]",
      "text/plain": [
       "<matplotlib.figure.Figure at 0x7f0db8045ad0>"
      ]
     },
     "metadata": {},
     "output_type": "display_data"
    }
   ],
   "source": [
    "pd.DataFrame(trace.get_values('prior_accessories')).plot()"
   ]
  },
  {
   "cell_type": "code",
   "execution_count": 72,
   "metadata": {
    "_datascience": {},
    "collapsed": false
   },
   "outputs": [
    {
     "data": {
      "text/plain": [
       "<matplotlib.axes._subplots.AxesSubplot at 0x7f0de4123090>"
      ]
     },
     "execution_count": 72,
     "metadata": {},
     "output_type": "execute_result"
    },
    {
     "data": {
      "image/png": "[encoded data removed]",
      "text/plain": [
       "<matplotlib.figure.Figure at 0x7f0de2aa2d10>"
      ]
     },
     "metadata": {},
     "output_type": "display_data"
    }
   ],
   "source": [
    "%matplotlib inline\n",
    "df.log_price.hist(bins = [j for j in range(30)])"
   ]
  },
  {
   "cell_type": "code",
   "execution_count": 68,
   "metadata": {
    "_datascience": {},
    "collapsed": true
   },
   "outputs": [],
   "source": [
    "pm.Lognormal?"
   ]
  },
  {
   "cell_type": "code",
   "execution_count": null,
   "metadata": {
    "_datascience": {},
    "collapsed": true
   },
   "outputs": [],
   "source": []
  }
 ],
 "metadata": {
  "_datascience": {},
  "kernelspec": {
   "display_name": "Python 2",
   "language": "python",
   "name": "python2"
  },
  "language_info": {
   "codemirror_mode": {
    "name": "ipython",
    "version": 2
   },
   "file_extension": ".py",
   "mimetype": "text/x-python",
   "name": "python",
   "nbconvert_exporter": "python",
   "pygments_lexer": "ipython2",
   "version": "2.7.6"
  }
 },
 "nbformat": 4,
 "nbformat_minor": 0
}
