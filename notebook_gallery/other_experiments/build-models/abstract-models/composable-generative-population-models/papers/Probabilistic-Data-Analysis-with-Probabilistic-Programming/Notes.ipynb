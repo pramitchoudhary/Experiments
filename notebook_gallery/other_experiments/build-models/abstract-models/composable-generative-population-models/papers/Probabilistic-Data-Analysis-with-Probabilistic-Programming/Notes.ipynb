{
 "cells": [
  {
   "cell_type": "markdown",
   "metadata": {
    "_datascience": {},
    "collapsed": true,
    "slideshow": {
     "slide_type": "slide"
    }
   },
   "source": [
    "### Metadata\n",
    "\n",
    "* Title: Probabilistic Data Analysis with Probabilistic Programming\n",
    "* Date: August 2016\n",
    "* Authors: Vikash Mansinghka and Feras Saad, from MIT.\n"
   ]
  },
  {
   "cell_type": "markdown",
   "metadata": {
    "_datascience": {},
    "slideshow": {
     "slide_type": "slide"
    }
   },
   "source": [
    "### Context: Bayesian Non-Parametrics\n",
    "\n",
    "Bayesian non-parametrics represents an early form of model abstraction. A researcher wants to develop some mixture model of her data. Rather than using traditional methods of model selection (fit various mixture models, varying the number components, and optimizing some objective function), she includes the number of components into the posterior, incorporating the Chinese Restaurant Process (Dirichlet process mixture) into the generative process, such that the number of components can grow as the complexity of the data grows. This idea is relevant as it introduces a means of doing probabilistic inference on model structure.\n",
    "\n",
    "Further reading on that can be found <a href=\"http://www.cs.columbia.edu/~blei/papers/GershmanBlei2012.pdf\">here</a>"
   ]
  },
  {
   "cell_type": "markdown",
   "metadata": {
    "_datascience": {},
    "slideshow": {
     "slide_type": "slide"
    }
   },
   "source": [
    "### Context: Directed Graphical Models:\n",
    "\n",
    "Graphical models are frameworks for describing relationships between observed and unobserved variables."
   ]
  },
  {
   "cell_type": "code",
   "execution_count": 8,
   "metadata": {
    "_datascience": {},
    "collapsed": false,
    "slideshow": {
     "slide_type": "fragment"
    }
   },
   "outputs": [
    {
     "data": {
      "image/png": "[encoded data removed]",
      "text/plain": [
       "<IPython.core.display.Image object>"
      ]
     },
     "execution_count": 8,
     "metadata": {},
     "output_type": "execute_result"
    }
   ],
   "source": [
    "url = \"https://qph.ec.quoracdn.net/main-qimg-d02450e8316735cc2079c3f240756b4e?convert_to_webp=true\"\n",
    "path = 'sample-graph.png'\n",
    "from IPython import display\n",
    "display.Image(data = path)\n",
    "#display.Image(url = url)"
   ]
  },
  {
   "cell_type": "markdown",
   "metadata": {
    "_datascience": {},
    "slideshow": {
     "slide_type": "fragment"
    }
   },
   "source": [
    "Directed graphical models treat nodes as variables, and edges as dependencies. Conditioning on the parents of a node, that node is conditionally independent of all other nodes."
   ]
  },
  {
   "cell_type": "markdown",
   "metadata": {
    "_datascience": {},
    "slideshow": {
     "slide_type": "subslide"
    }
   },
   "source": [
    "A DAG Model corresponds to a factorization of the joint probability distribution:\n",
    "\n",
    "$p(A, B, C, D, E) = p(A)p(B)p(C|A, B)p(D|B, C)p(E|C, D)$\n",
    "\n",
    "In general:\n",
    "\n",
    "$p(X_1, . . . , Xn) = \\prod_{i = 1}^{N} p(X_i|X_{parents (i)})$"
   ]
  },
  {
   "cell_type": "markdown",
   "metadata": {
    "_datascience": {},
    "slideshow": {
     "slide_type": "fragment"
    }
   },
   "source": [
    "Graphical models allow us to define general **message-passing algorithms** that\n",
    "implement probabilistic inference efficiently. Thus we can answer queries like\n",
    "“What is $p(A|C = c)?$” without enumerating all settings of all variables in the\n",
    "model."
   ]
  },
  {
   "cell_type": "markdown",
   "metadata": {
    "_datascience": {},
    "collapsed": true,
    "slideshow": {
     "slide_type": "fragment"
    }
   },
   "source": [
    "We see that conditioning on C, E and D provide no information about A. Therefore the original query as:\n",
    "\n",
    "$\\sum_{B,D,E}p(A)p(B)P(C=c|A,B)P(D|B,C=c)P(E|D,C=c) $\n",
    "\n",
    "reduces to\n",
    "\n",
    "$\\sum_{B}P(A)P(B)P(C=c|A,B)$"
   ]
  },
  {
   "cell_type": "markdown",
   "metadata": {
    "_datascience": {},
    "slideshow": {
     "slide_type": "slide"
    }
   },
   "source": [
    "### CGPMs, a motivation\n",
    "\n",
    "We want to able to draw samples from and evaluate densities of random variables in a dataset. In particular, we want to be able to condition to condition on arbitrary data.\n",
    "\n",
    "This is possible with a directed graphical model, but building and querying this program is not easily generalizable.\n",
    "\n",
    "**Requirements**:\n",
    "* Must save lots us lots of lines of code.\n",
    "* Models must be accurate.\n",
    "* Must cover a wide diversity of datasets and queries."
   ]
  },
  {
   "cell_type": "code",
   "execution_count": null,
   "metadata": {
    "collapsed": true
   },
   "outputs": [],
   "source": []
  }
 ],
 "metadata": {
  "_datascience": {},
  "celltoolbar": "Slideshow",
  "kernelspec": {
   "display_name": "Python 2",
   "language": "python",
   "name": "python2"
  },
  "language_info": {
   "codemirror_mode": {
    "name": "ipython",
    "version": 2
   },
   "file_extension": ".py",
   "mimetype": "text/x-python",
   "name": "python",
   "nbconvert_exporter": "python",
   "pygments_lexer": "ipython2",
   "version": "2.7.6"
  }
 },
 "nbformat": 4,
 "nbformat_minor": 0
}
