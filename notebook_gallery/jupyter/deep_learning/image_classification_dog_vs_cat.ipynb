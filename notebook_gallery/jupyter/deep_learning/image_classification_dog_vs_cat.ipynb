{
 "cells": [
  {
   "cell_type": "markdown",
   "metadata": {},
   "source": [
    "# A Simple Image Classification Problem using Keras (dog_vs_cat)"
   ]
  },
  {
   "cell_type": "code",
   "execution_count": null,
   "metadata": {
    "collapsed": true
   },
   "outputs": [],
   "source": [
    "# import the necessary packages\n",
    "from sklearn.preprocessing import LabelEncoder\n",
    "from sklearn.model_selection import train_test_split\n",
    "from keras.models import Sequential\n",
    "from keras.layers import Activation\n",
    "from keras.optimizers import SGD\n",
    "from keras.layers import Dense\n",
    "from keras.utils import np_utils\n",
    "from imutils import paths\n",
    "import numpy as np\n",
    "import argparse\n",
    "import os\n",
    "import cv2\n",
    "import pandas as pd\n",
    "import numpy as np"
   ]
  },
  {
   "cell_type": "code",
   "execution_count": 2,
   "metadata": {
    "collapsed": true
   },
   "outputs": [],
   "source": [
    "def image_to_feature_vector(image, size=(32, 32)):\n",
    "\t# resize the image to a fixed size, then flatten the image into\n",
    "\t# a list of raw pixel intensities\n",
    "\treturn cv2.resize(image, size).flatten()"
   ]
  },
  {
   "cell_type": "code",
   "execution_count": 3,
   "metadata": {},
   "outputs": [
    {
     "name": "stdout",
     "output_type": "stream",
     "text": [
      "[INFO] describing images...\n"
     ]
    }
   ],
   "source": [
    "import glob\n",
    "print(\"[INFO] describing images...\")\n",
    "train_image_path = \"data/train/\"\n",
    "image_paths = glob.glob(os.path.join(train_image_path, '*.jpg'))\n",
    "\n",
    "# initialize the data matrix and labels list\n",
    "data = []\n",
    "labels = []"
   ]
  },
  {
   "cell_type": "code",
   "execution_count": 4,
   "metadata": {},
   "outputs": [
    {
     "name": "stdout",
     "output_type": "stream",
     "text": [
      "[INFO] processed 1000/25000\n",
      "[INFO] processed 2000/25000\n",
      "[INFO] processed 3000/25000\n",
      "[INFO] processed 4000/25000\n",
      "[INFO] processed 5000/25000\n",
      "[INFO] processed 6000/25000\n",
      "[INFO] processed 7000/25000\n",
      "[INFO] processed 8000/25000\n",
      "[INFO] processed 9000/25000\n",
      "[INFO] processed 10000/25000\n",
      "[INFO] processed 11000/25000\n",
      "[INFO] processed 12000/25000\n",
      "[INFO] processed 13000/25000\n",
      "[INFO] processed 14000/25000\n",
      "[INFO] processed 15000/25000\n",
      "[INFO] processed 16000/25000\n",
      "[INFO] processed 17000/25000\n",
      "[INFO] processed 18000/25000\n",
      "[INFO] processed 19000/25000\n",
      "[INFO] processed 20000/25000\n",
      "[INFO] processed 21000/25000\n",
      "[INFO] processed 22000/25000\n",
      "[INFO] processed 23000/25000\n",
      "[INFO] processed 24000/25000\n"
     ]
    }
   ],
   "source": [
    "# loop over the input images\n",
    "for (i, imagePath) in enumerate(image_paths):\n",
    "    # load the image and extract the class label (assuming that our\n",
    "    # path as the format: /path/to/dataset/{class}.{image_num}.jpg\n",
    "    image = cv2.imread(imagePath)\n",
    "    label = imagePath.split(os.path.sep)[-1].split(\".\")[0]\n",
    " \n",
    "    # construct a feature vector raw pixel intensities, then update\n",
    "    # the data matrix and labels list\n",
    "    features = image_to_feature_vector(image)\n",
    "    data.append(features)\n",
    "    labels.append(label)\n",
    " \n",
    "    # show an update every 1,000 images\n",
    "    if i > 0 and i % 1000 == 0:\n",
    "        print(\"[INFO] processed {}/{}\".format(i, len(image_paths)))"
   ]
  },
  {
   "cell_type": "markdown",
   "metadata": {},
   "source": [
    "### Data Preprocessing "
   ]
  },
  {
   "cell_type": "code",
   "execution_count": 5,
   "metadata": {},
   "outputs": [
    {
     "name": "stdout",
     "output_type": "stream",
     "text": [
      "            0\n",
      "count   25000\n",
      "unique      2\n",
      "top       cat\n",
      "freq    12500\n"
     ]
    }
   ],
   "source": [
    "# encode the labels, converting them from strings to integers\n",
    "le = LabelEncoder()\n",
    "encoded_labels = le.fit_transform(labels)\n",
    "pd.DataFrame(encoded_labels).head(5)\n",
    "print(pd.DataFrame(labels).describe())\n",
    "\n",
    "normalized_data = np.array(data) / 255.0\n",
    "categorical_labels = np_utils.to_categorical(encoded_labels, 2)"
   ]
  },
  {
   "cell_type": "code",
   "execution_count": 6,
   "metadata": {},
   "outputs": [
    {
     "name": "stdout",
     "output_type": "stream",
     "text": [
      "[INFO] constructing training/testing split...\n"
     ]
    }
   ],
   "source": [
    "# partition the data into training and testing splits, using 75%\n",
    "# of the data for training and the remaining 25% for testing\n",
    "print(\"[INFO] constructing training/testing split...\")\n",
    "labels = categorical_labels.tolist\n",
    "(trainData, testData, trainLabels, testLabels) = train_test_split(data, categorical_labels, test_size=0.25, random_state=42)"
   ]
  },
  {
   "cell_type": "markdown",
   "metadata": {
    "collapsed": true
   },
   "source": [
    "### Define an architecture - > Feed Forward Network of dimension  \"3072-768-384-2\""
   ]
  },
  {
   "cell_type": "code",
   "execution_count": 9,
   "metadata": {
    "collapsed": true
   },
   "outputs": [],
   "source": [
    "model = Sequential()\n",
    "model.add(Dense(768, input_dim=3072, kernel_initializer=\"uniform\", activation=\"relu\"))\n",
    "model.add(Dense(384, kernel_initializer=\"uniform\", activation=\"relu\"))\n",
    "model.add(Dense(2))\n",
    "model.add(Activation(\"softmax\"))"
   ]
  },
  {
   "cell_type": "code",
   "execution_count": 16,
   "metadata": {},
   "outputs": [
    {
     "name": "stdout",
     "output_type": "stream",
     "text": [
      "[INFO] compiling model...\n",
      "Epoch 1/50\n",
      "18750/18750 [==============================] - 4s - loss: 8.0160 - acc: 0.4999     \n",
      "Epoch 2/50\n",
      "18750/18750 [==============================] - 4s - loss: 8.0160 - acc: 0.4999     \n",
      "Epoch 3/50\n",
      "18750/18750 [==============================] - 4s - loss: 8.0160 - acc: 0.4999     \n",
      "Epoch 4/50\n",
      "18750/18750 [==============================] - 4s - loss: 8.0160 - acc: 0.4999     \n",
      "Epoch 5/50\n",
      "18750/18750 [==============================] - 4s - loss: 8.0160 - acc: 0.4999     \n",
      "Epoch 6/50\n",
      "18750/18750 [==============================] - 4s - loss: 8.0160 - acc: 0.4999     \n",
      "Epoch 7/50\n",
      "18750/18750 [==============================] - 4s - loss: 8.0160 - acc: 0.4999     \n",
      "Epoch 8/50\n",
      "18750/18750 [==============================] - 4s - loss: 8.0160 - acc: 0.4999     \n",
      "Epoch 9/50\n",
      "18750/18750 [==============================] - 4s - loss: 8.0160 - acc: 0.4999     \n",
      "Epoch 10/50\n",
      "18750/18750 [==============================] - 4s - loss: 8.0160 - acc: 0.4999     \n",
      "Epoch 11/50\n",
      "18750/18750 [==============================] - 4s - loss: 8.0160 - acc: 0.4999     \n",
      "Epoch 12/50\n",
      "18750/18750 [==============================] - 4s - loss: 8.0160 - acc: 0.4999     \n",
      "Epoch 13/50\n",
      "18750/18750 [==============================] - 4s - loss: 8.0160 - acc: 0.4999     \n",
      "Epoch 14/50\n",
      "18750/18750 [==============================] - 4s - loss: 8.0160 - acc: 0.4999     \n",
      "Epoch 15/50\n",
      "18750/18750 [==============================] - 4s - loss: 8.0160 - acc: 0.4999     \n",
      "Epoch 16/50\n",
      "18750/18750 [==============================] - 4s - loss: 8.0160 - acc: 0.4999     \n",
      "Epoch 17/50\n",
      "18750/18750 [==============================] - 4s - loss: 8.0160 - acc: 0.4999     \n",
      "Epoch 18/50\n",
      "18750/18750 [==============================] - 4s - loss: 8.0160 - acc: 0.4999     \n",
      "Epoch 19/50\n",
      "18750/18750 [==============================] - 4s - loss: 8.0160 - acc: 0.4999     \n",
      "Epoch 20/50\n",
      "18750/18750 [==============================] - 4s - loss: 8.0160 - acc: 0.4999     \n",
      "Epoch 21/50\n",
      "18750/18750 [==============================] - 4s - loss: 8.0160 - acc: 0.4999     \n",
      "Epoch 22/50\n",
      "18750/18750 [==============================] - 4s - loss: 8.0160 - acc: 0.4999     \n",
      "Epoch 23/50\n",
      "18750/18750 [==============================] - 4s - loss: 8.0160 - acc: 0.4999     \n",
      "Epoch 24/50\n",
      "18750/18750 [==============================] - 4s - loss: 8.0160 - acc: 0.4999     \n",
      "Epoch 25/50\n",
      "18750/18750 [==============================] - 4s - loss: 8.0160 - acc: 0.4999     \n",
      "Epoch 26/50\n",
      "18750/18750 [==============================] - 4s - loss: 8.0160 - acc: 0.4999     \n",
      "Epoch 27/50\n",
      "18750/18750 [==============================] - 4s - loss: 8.0160 - acc: 0.4999     \n",
      "Epoch 28/50\n",
      "18750/18750 [==============================] - 4s - loss: 8.0160 - acc: 0.4999     \n",
      "Epoch 29/50\n",
      "18750/18750 [==============================] - 4s - loss: 8.0160 - acc: 0.4999     \n",
      "Epoch 30/50\n",
      "18750/18750 [==============================] - 4s - loss: 8.0160 - acc: 0.4999     \n",
      "Epoch 31/50\n",
      "18750/18750 [==============================] - 4s - loss: 8.0160 - acc: 0.4999     \n",
      "Epoch 32/50\n",
      "18750/18750 [==============================] - 4s - loss: 8.0160 - acc: 0.4999     \n",
      "Epoch 33/50\n",
      "18750/18750 [==============================] - 4s - loss: 8.0160 - acc: 0.4999     \n",
      "Epoch 34/50\n",
      "18750/18750 [==============================] - 4s - loss: 8.0160 - acc: 0.4999     \n",
      "Epoch 35/50\n",
      "18750/18750 [==============================] - 4s - loss: 8.0160 - acc: 0.4999     \n",
      "Epoch 36/50\n",
      "18750/18750 [==============================] - 4s - loss: 8.0160 - acc: 0.4999     \n",
      "Epoch 37/50\n",
      "18750/18750 [==============================] - 4s - loss: 8.0160 - acc: 0.4999     \n",
      "Epoch 38/50\n",
      "18750/18750 [==============================] - 4s - loss: 8.0160 - acc: 0.4999     \n",
      "Epoch 39/50\n",
      "18750/18750 [==============================] - 4s - loss: 8.0160 - acc: 0.4999     \n",
      "Epoch 40/50\n",
      "18750/18750 [==============================] - 4s - loss: 8.0160 - acc: 0.4999     \n",
      "Epoch 41/50\n",
      "18750/18750 [==============================] - 4s - loss: 8.0160 - acc: 0.4999     \n",
      "Epoch 42/50\n",
      "18750/18750 [==============================] - 4s - loss: 8.0160 - acc: 0.4999     \n",
      "Epoch 43/50\n",
      "18750/18750 [==============================] - 4s - loss: 8.0160 - acc: 0.4999     \n",
      "Epoch 44/50\n",
      "18750/18750 [==============================] - 4s - loss: 8.0160 - acc: 0.4999     \n",
      "Epoch 45/50\n",
      "18750/18750 [==============================] - 4s - loss: 8.0160 - acc: 0.4999     \n",
      "Epoch 46/50\n",
      "18750/18750 [==============================] - 4s - loss: 8.0160 - acc: 0.4999     \n",
      "Epoch 47/50\n",
      "18750/18750 [==============================] - 4s - loss: 8.0160 - acc: 0.4999     \n",
      "Epoch 48/50\n",
      "18750/18750 [==============================] - 4s - loss: 8.0160 - acc: 0.4999     \n",
      "Epoch 49/50\n",
      "18750/18750 [==============================] - 4s - loss: 8.0160 - acc: 0.4999     \n",
      "Epoch 50/50\n",
      "18750/18750 [==============================] - 4s - loss: 8.0160 - acc: 0.4999     \n"
     ]
    },
    {
     "data": {
      "text/plain": [
       "<keras.callbacks.History at 0x7f6bc514af10>"
      ]
     },
     "execution_count": 16,
     "metadata": {},
     "output_type": "execute_result"
    }
   ],
   "source": [
    "# train the model using SGD\n",
    "print(\"[INFO] compiling model...\")\n",
    "sgd = SGD(lr=0.001)\n",
    "model.compile(loss=\"binary_crossentropy\", optimizer=sgd, metrics=[\"accuracy\"])\n",
    "model.fit(np.array(trainData), np.array(trainLabels), epochs=50, batch_size=128)"
   ]
  },
  {
   "cell_type": "code",
   "execution_count": 17,
   "metadata": {},
   "outputs": [
    {
     "name": "stdout",
     "output_type": "stream",
     "text": [
      "[INFO] evaluating on testing set...\n",
      "5850/6250 [===========================>..] - ETA: 0s[INFO] loss=8.0100, accuracy: 50.0320%\n"
     ]
    }
   ],
   "source": [
    "# show the accuracy on the testing set\n",
    "print(\"[INFO] evaluating on testing set...\")\n",
    "(loss, accuracy) = model.evaluate(np.array(testData), np.array(testLabels), batch_size=150, verbose=1)\n",
    "print(\"[INFO] loss={:.4f}, accuracy: {:.4f}%\".format(loss, accuracy * 100))"
   ]
  },
  {
   "cell_type": "code",
   "execution_count": null,
   "metadata": {
    "collapsed": true
   },
   "outputs": [],
   "source": []
  }
 ],
 "metadata": {
  "kernelspec": {
   "display_name": "Python 2",
   "language": "python",
   "name": "python2"
  },
  "language_info": {
   "codemirror_mode": {
    "name": "ipython",
    "version": 2
   },
   "file_extension": ".py",
   "mimetype": "text/x-python",
   "name": "python",
   "nbconvert_exporter": "python",
   "pygments_lexer": "ipython2",
   "version": "2.7.6"
  }
 },
 "nbformat": 4,
 "nbformat_minor": 1
}
