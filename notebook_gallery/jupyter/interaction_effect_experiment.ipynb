{
 "cells": [
  {
   "cell_type": "code",
   "execution_count": null,
   "metadata": {},
   "outputs": [],
   "source": [
    "from skater.core.explanations import Interpretation\n",
    "from skater.model import InMemoryModel"
   ]
  },
  {
   "cell_type": "code",
   "execution_count": 158,
   "metadata": {},
   "outputs": [],
   "source": [
    "from __future__ import division\n",
    "\n",
    "\n",
    "__all__ = ['h', 'h_all_pairs']\n",
    "\n",
    "\n",
    "import itertools\n",
    "\n",
    "import math\n",
    "\n",
    "import numpy as np\n",
    "\n",
    "import sklearn.ensemble.partial_dependence as partial_dependence\n",
    "\n",
    "\n",
    "def h(gbm, array_or_frame, indices_or_columns = 'all'):\n",
    "    if indices_or_columns == 'all':\n",
    "        if gbm.max_depth < array_or_frame.shape[1]:\n",
    "            raise \\\n",
    "                Exception(\n",
    "                    \"gbm.max_depth == {} < array_or_frame.shape[1] == {}, so indices_or_columns must not be 'all'.\"\n",
    "                    .format(gbm.max_depth, array_or_frame.shape[1])\n",
    "                )\n",
    "    else:\n",
    "        if gbm.max_depth < len(indices_or_columns):\n",
    "            raise \\\n",
    "                Exception(\n",
    "                    \"gbm.max_depth == {}, so indices_or_columns must contain at most {} {}.\"\n",
    "                    .format(gbm.max_depth, gbm.max_depth, \"element\" if gbm.max_depth == 1 else \"elements\")\n",
    "                )\n",
    "    check_args_contd(array_or_frame, indices_or_columns)\n",
    "\n",
    "    arr, model_inds = get_arr_and_model_inds(array_or_frame, indices_or_columns)\n",
    "\n",
    "    width = arr.shape[1]\n",
    "    f_vals = {}\n",
    "    for n in range(width, 0, -1):\n",
    "        for inds in itertools.combinations(range(width), n):\n",
    "            f_vals[inds] = compute_f_vals(gbm, model_inds, arr, inds)\n",
    "\n",
    "    return compute_h_val(f_vals, arr, tuple(range(width)))\n",
    "\n",
    "\n",
    "def h_all_pairs(gbm, array_or_frame, indices_or_columns = 'all'):\n",
    "    if gbm.max_depth < 2:\n",
    "        raise Exception(\"gbm.max_depth must be at least 2.\")\n",
    "    check_args_contd(array_or_frame, indices_or_columns)\n",
    "\n",
    "    arr, model_inds = get_arr_and_model_inds(array_or_frame, indices_or_columns)\n",
    "\n",
    "    width = arr.shape[1]\n",
    "    f_vals = {}\n",
    "    for n in [2, 1]:\n",
    "        for inds in itertools.combinations(range(width), n):\n",
    "            f_vals[inds] = compute_f_vals(gbm, model_inds, arr, inds)\n",
    "\n",
    "    h_vals = {}\n",
    "    for inds in itertools.combinations(range(width), 2):\n",
    "        h_vals[inds] = compute_h_val(f_vals, arr, inds)\n",
    "    if indices_or_columns != 'all':\n",
    "        h_vals = {tuple(model_inds[(inds,)]): h_vals[inds] for inds in h_vals.keys()}\n",
    "    if not isinstance(array_or_frame, np.ndarray):\n",
    "        all_cols = array_or_frame.columns.values\n",
    "        h_vals = {tuple(all_cols[(inds,)]): h_vals[inds] for inds in h_vals.keys()}\n",
    "\n",
    "    return h_vals\n",
    "\n",
    "\n",
    "def check_args_contd(array_or_frame, indices_or_columns):\n",
    "    if indices_or_columns != 'all':\n",
    "        if len(indices_or_columns) < 2:\n",
    "            raise Exception(\"indices_or_columns must be 'all' or contain at least 2 elements.\")\n",
    "        if isinstance(array_or_frame, np.ndarray):\n",
    "            all_inds = range(array_or_frame.shape[1])\n",
    "            if not all(ind in all_inds for ind in indices_or_columns):\n",
    "                raise Exception(\"indices_or_columns must be 'all' or a subset of {}.\".format(all_inds))\n",
    "        else:\n",
    "            all_cols = array_or_frame.columns.tolist()\n",
    "            if not all(col in all_cols for col in indices_or_columns):\n",
    "                raise Exception(\"indices_or_columns must be 'all' or a subset of {}.\".format(all_cols))\n",
    "\n",
    "\n",
    "def get_arr_and_model_inds(array_or_frame, indices_or_columns):\n",
    "    if isinstance(array_or_frame, np.ndarray):\n",
    "        if indices_or_columns == 'all': indices_or_columns = range(array_or_frame.shape[1])\n",
    "        arr = array_or_frame[:, indices_or_columns]\n",
    "        model_inds = np.array(indices_or_columns)\n",
    "    else:\n",
    "        all_cols = array_or_frame.columns.tolist()\n",
    "        if indices_or_columns == 'all': indices_or_columns = all_cols\n",
    "        arr = array_or_frame[indices_or_columns].values\n",
    "        model_inds = np.array([all_cols.index(col) for col in indices_or_columns])\n",
    "    return arr, model_inds\n",
    "\n",
    "\n",
    "def compute_f_vals(gbm, model_inds, arr, inds):\n",
    "    feat_vals, feat_val_counts = unique_rows_with_counts(arr[:, inds])\n",
    "    print(f\"Grid values{feat_vals.shape} value count {feat_val_counts.shape}\")\n",
    "    uncentd_f_vals = partial_dependence.partial_dependence(gbm, model_inds[(inds,)], \n",
    "                                                           grid_resolution=10, X=X_train)[0][0]\n",
    "    print(\"-------------------\")\n",
    "    print(uncentd_f_vals.shape)\n",
    "    mean_uncentd_f_val = np.dot(feat_val_counts, uncentd_f_vals)/arr.shape[0]\n",
    "    f_vals = uncentd_f_vals-mean_uncentd_f_val\n",
    "    return dict(zip(map(tuple, feat_vals), f_vals))\n",
    "\n",
    "\n",
    "def compute_h_val(f_vals, arr, inds):\n",
    "    feat_vals, feat_val_counts = unique_rows_with_counts(arr)\n",
    "    uniq_height = feat_vals.shape[0]\n",
    "    numer_els = np.zeros(uniq_height)\n",
    "    denom_els = np.empty_like(numer_els)\n",
    "    for i in range(uniq_height):\n",
    "        feat_vals_i = feat_vals[i]\n",
    "        sign = 1.0\n",
    "        for n in range(len(inds), 0, -1):\n",
    "            for subinds in itertools.combinations(inds, n):\n",
    "                numer_els[i] += sign*f_vals[subinds][tuple(feat_vals_i[(subinds,)])]\n",
    "            sign *= -1.0\n",
    "        denom_els[i] = f_vals[inds][tuple(feat_vals_i[(inds,)])]\n",
    "    numer = np.dot(feat_val_counts, numer_els**2)\n",
    "    denom = np.dot(feat_val_counts, denom_els**2)\n",
    "    return math.sqrt(numer/denom) if numer < denom else np.nan\n",
    "\n",
    "\n",
    "def unique_rows_with_counts(inp_arr):\n",
    "    width = inp_arr.shape[1]\n",
    "    cont_arr = np.ascontiguousarray(inp_arr)\n",
    "    tuple_dtype = [(str(i), inp_arr.dtype) for i in range(width)]\n",
    "    tuple_arr = cont_arr.view(tuple_dtype)\n",
    "    uniq_arr, counts = np.unique(tuple_arr, return_counts = True)\n",
    "    outp_arr = uniq_arr.view(inp_arr.dtype).reshape(-1, width)\n",
    "    return outp_arr, counts"
   ]
  },
  {
   "cell_type": "code",
   "execution_count": 159,
   "metadata": {},
   "outputs": [],
   "source": [
    "import time\n",
    "from sklearn import datasets\n",
    "from sklearn import ensemble\n",
    "from sklearn.model_selection import train_test_split\n",
    "\n",
    "\n",
    "iris_data = datasets.load_iris()\n",
    "X = iris_data.data\n",
    "y = iris_data.target\n",
    "\n",
    "# train and test\n",
    "X_train, X_test, y_train, y_test = train_test_split(X, y, test_size=0.2, random_state=42)"
   ]
  },
  {
   "cell_type": "code",
   "execution_count": 160,
   "metadata": {},
   "outputs": [
    {
     "name": "stdout",
     "output_type": "stream",
     "text": [
      "['f_f_f_f_f_f_f_f_0', 'f_f_f_f_f_f_f_f_1', 'f_f_f_f_f_f_f_f_2', 'f_f_f_f_f_f_f_f_3']\n",
      "[0 1 2]\n"
     ]
    }
   ],
   "source": [
    "import pandas as pd\n",
    "\n",
    "feature_names = [f\"f_{i}\" for i in X_train_df.columns.values]\n",
    "print(feature_names)\n",
    "X_train_df = pd.DataFrame(X_train, columns=feature_names)\n",
    "\n",
    "target_names = np.unique(y)\n",
    "print(target_names)"
   ]
  },
  {
   "cell_type": "code",
   "execution_count": 161,
   "metadata": {},
   "outputs": [],
   "source": [
    "gbes = ensemble.GradientBoostingClassifier(n_estimators=5,\n",
    "                                               validation_fraction=0.2,\n",
    "                                               n_iter_no_change=5, tol=0.01,\n",
    "                                               random_state=0)"
   ]
  },
  {
   "cell_type": "code",
   "execution_count": 162,
   "metadata": {},
   "outputs": [],
   "source": [
    "start = time.time()\n",
    "gbes.fit(X_train, y_train)\n",
    "end = time.time() - start"
   ]
  },
  {
   "cell_type": "code",
   "execution_count": 163,
   "metadata": {},
   "outputs": [
    {
     "data": {
      "text/plain": [
       "array([ 0.00729438,  0.00658948,  0.29969678,  0.68641936])"
      ]
     },
     "execution_count": 163,
     "metadata": {},
     "output_type": "execute_result"
    }
   ],
   "source": [
    "gbes.feature_importances_"
   ]
  },
  {
   "cell_type": "code",
   "execution_count": 164,
   "metadata": {},
   "outputs": [
    {
     "name": "stdout",
     "output_type": "stream",
     "text": [
      "Grid values(102, 2) value count (102,)\n",
      "-------------------\n",
      "(100,)\n"
     ]
    },
    {
     "ename": "ValueError",
     "evalue": "shapes (102,) and (100,) not aligned: 102 (dim 0) != 100 (dim 0)",
     "output_type": "error",
     "traceback": [
      "\u001b[0;31m---------------------------------------------------------------------------\u001b[0m",
      "\u001b[0;31mValueError\u001b[0m                                Traceback (most recent call last)",
      "\u001b[0;32m<ipython-input-164-28209a693a26>\u001b[0m in \u001b[0;36m<module>\u001b[0;34m\u001b[0m\n\u001b[0;32m----> 1\u001b[0;31m \u001b[0mh_all_pairs\u001b[0m\u001b[0;34m(\u001b[0m\u001b[0mgbes\u001b[0m\u001b[0;34m,\u001b[0m \u001b[0mX_train\u001b[0m\u001b[0;34m)\u001b[0m\u001b[0;34m\u001b[0m\u001b[0m\n\u001b[0m",
      "\u001b[0;32m<ipython-input-158-a24bece3241c>\u001b[0m in \u001b[0;36mh_all_pairs\u001b[0;34m(gbm, array_or_frame, indices_or_columns)\u001b[0m\n\u001b[1;32m     53\u001b[0m     \u001b[0;32mfor\u001b[0m \u001b[0mn\u001b[0m \u001b[0;32min\u001b[0m \u001b[0;34m[\u001b[0m\u001b[0;36m2\u001b[0m\u001b[0;34m,\u001b[0m \u001b[0;36m1\u001b[0m\u001b[0;34m]\u001b[0m\u001b[0;34m:\u001b[0m\u001b[0;34m\u001b[0m\u001b[0m\n\u001b[1;32m     54\u001b[0m         \u001b[0;32mfor\u001b[0m \u001b[0minds\u001b[0m \u001b[0;32min\u001b[0m \u001b[0mitertools\u001b[0m\u001b[0;34m.\u001b[0m\u001b[0mcombinations\u001b[0m\u001b[0;34m(\u001b[0m\u001b[0mrange\u001b[0m\u001b[0;34m(\u001b[0m\u001b[0mwidth\u001b[0m\u001b[0;34m)\u001b[0m\u001b[0;34m,\u001b[0m \u001b[0mn\u001b[0m\u001b[0;34m)\u001b[0m\u001b[0;34m:\u001b[0m\u001b[0;34m\u001b[0m\u001b[0m\n\u001b[0;32m---> 55\u001b[0;31m             \u001b[0mf_vals\u001b[0m\u001b[0;34m[\u001b[0m\u001b[0minds\u001b[0m\u001b[0;34m]\u001b[0m \u001b[0;34m=\u001b[0m \u001b[0mcompute_f_vals\u001b[0m\u001b[0;34m(\u001b[0m\u001b[0mgbm\u001b[0m\u001b[0;34m,\u001b[0m \u001b[0mmodel_inds\u001b[0m\u001b[0;34m,\u001b[0m \u001b[0marr\u001b[0m\u001b[0;34m,\u001b[0m \u001b[0minds\u001b[0m\u001b[0;34m)\u001b[0m\u001b[0;34m\u001b[0m\u001b[0m\n\u001b[0m\u001b[1;32m     56\u001b[0m \u001b[0;34m\u001b[0m\u001b[0m\n\u001b[1;32m     57\u001b[0m     \u001b[0mh_vals\u001b[0m \u001b[0;34m=\u001b[0m \u001b[0;34m{\u001b[0m\u001b[0;34m}\u001b[0m\u001b[0;34m\u001b[0m\u001b[0m\n",
      "\u001b[0;32m<ipython-input-158-a24bece3241c>\u001b[0m in \u001b[0;36mcompute_f_vals\u001b[0;34m(gbm, model_inds, arr, inds)\u001b[0m\n\u001b[1;32m    101\u001b[0m     \u001b[0mprint\u001b[0m\u001b[0;34m(\u001b[0m\u001b[0;34m\"-------------------\"\u001b[0m\u001b[0;34m)\u001b[0m\u001b[0;34m\u001b[0m\u001b[0m\n\u001b[1;32m    102\u001b[0m     \u001b[0mprint\u001b[0m\u001b[0;34m(\u001b[0m\u001b[0muncentd_f_vals\u001b[0m\u001b[0;34m.\u001b[0m\u001b[0mshape\u001b[0m\u001b[0;34m)\u001b[0m\u001b[0;34m\u001b[0m\u001b[0m\n\u001b[0;32m--> 103\u001b[0;31m     \u001b[0mmean_uncentd_f_val\u001b[0m \u001b[0;34m=\u001b[0m \u001b[0mnp\u001b[0m\u001b[0;34m.\u001b[0m\u001b[0mdot\u001b[0m\u001b[0;34m(\u001b[0m\u001b[0mfeat_val_counts\u001b[0m\u001b[0;34m,\u001b[0m \u001b[0muncentd_f_vals\u001b[0m\u001b[0;34m)\u001b[0m\u001b[0;34m/\u001b[0m\u001b[0marr\u001b[0m\u001b[0;34m.\u001b[0m\u001b[0mshape\u001b[0m\u001b[0;34m[\u001b[0m\u001b[0;36m0\u001b[0m\u001b[0;34m]\u001b[0m\u001b[0;34m\u001b[0m\u001b[0m\n\u001b[0m\u001b[1;32m    104\u001b[0m     \u001b[0mf_vals\u001b[0m \u001b[0;34m=\u001b[0m \u001b[0muncentd_f_vals\u001b[0m\u001b[0;34m-\u001b[0m\u001b[0mmean_uncentd_f_val\u001b[0m\u001b[0;34m\u001b[0m\u001b[0m\n\u001b[1;32m    105\u001b[0m     \u001b[0;32mreturn\u001b[0m \u001b[0mdict\u001b[0m\u001b[0;34m(\u001b[0m\u001b[0mzip\u001b[0m\u001b[0;34m(\u001b[0m\u001b[0mmap\u001b[0m\u001b[0;34m(\u001b[0m\u001b[0mtuple\u001b[0m\u001b[0;34m,\u001b[0m \u001b[0mfeat_vals\u001b[0m\u001b[0;34m)\u001b[0m\u001b[0;34m,\u001b[0m \u001b[0mf_vals\u001b[0m\u001b[0;34m)\u001b[0m\u001b[0;34m)\u001b[0m\u001b[0;34m\u001b[0m\u001b[0m\n",
      "\u001b[0;31mValueError\u001b[0m: shapes (102,) and (100,) not aligned: 102 (dim 0) != 100 (dim 0)"
     ]
    }
   ],
   "source": [
    "h_all_pairs(gbes, X_train)"
   ]
  },
  {
   "cell_type": "code",
   "execution_count": 92,
   "metadata": {},
   "outputs": [
    {
     "name": "stderr",
     "output_type": "stream",
     "text": [
      "2018-11-30 03:45:23,008 - skater.core.explanations - WARNING - Progress bars slow down runs by 10-20%. For slightly \n",
      "faster runs, do progressbar=False\n"
     ]
    },
    {
     "name": "stdout",
     "output_type": "stream",
     "text": [
      "[10/10] grid cells ████████████████████ Time elapsed: 0 seconds"
     ]
    }
   ],
   "source": [
    "from skater.core.explanations import Interpretation\n",
    "from skater.model import InMemoryModel\n",
    "\n",
    "in_obj = InMemoryModel(gbes.predict_proba, examples=X_train, target_names=[0, 1, 2])\n",
    "interpreter = Interpretation(X_train, feature_names=feature_names)\n",
    "values = interpreter.partial_dependence.partial_dependence(['f_0'], \n",
    "                                                           in_obj, grid_resolution=10)\n",
    "#interpreter.partial_dependence.plot_partial_dependence(['f_2', 'f_3'], in_obj, grid_resolution=10, with_variance=True)"
   ]
  },
  {
   "cell_type": "code",
   "execution_count": 96,
   "metadata": {},
   "outputs": [
    {
     "data": {
      "text/html": [
       "<div>\n",
       "<style scoped>\n",
       "    .dataframe tbody tr th:only-of-type {\n",
       "        vertical-align: middle;\n",
       "    }\n",
       "\n",
       "    .dataframe tbody tr th {\n",
       "        vertical-align: top;\n",
       "    }\n",
       "\n",
       "    .dataframe thead th {\n",
       "        text-align: right;\n",
       "    }\n",
       "</style>\n",
       "<table border=\"1\" class=\"dataframe\">\n",
       "  <thead>\n",
       "    <tr style=\"text-align: right;\">\n",
       "      <th></th>\n",
       "      <th>0</th>\n",
       "      <th>1</th>\n",
       "      <th>2</th>\n",
       "      <th>3</th>\n",
       "      <th>4</th>\n",
       "      <th>5</th>\n",
       "      <th>6</th>\n",
       "      <th>7</th>\n",
       "      <th>8</th>\n",
       "      <th>9</th>\n",
       "    </tr>\n",
       "  </thead>\n",
       "  <tbody>\n",
       "    <tr>\n",
       "      <th>0</th>\n",
       "      <td>0.343019</td>\n",
       "      <td>0.341402</td>\n",
       "      <td>0.341402</td>\n",
       "      <td>0.341402</td>\n",
       "      <td>0.341402</td>\n",
       "      <td>0.342175</td>\n",
       "      <td>0.342175</td>\n",
       "      <td>0.342175</td>\n",
       "      <td>0.342175</td>\n",
       "      <td>0.351203</td>\n",
       "    </tr>\n",
       "    <tr>\n",
       "      <th>1</th>\n",
       "      <td>0.330244</td>\n",
       "      <td>0.330987</td>\n",
       "      <td>0.330987</td>\n",
       "      <td>0.330987</td>\n",
       "      <td>0.330987</td>\n",
       "      <td>0.332724</td>\n",
       "      <td>0.332724</td>\n",
       "      <td>0.332724</td>\n",
       "      <td>0.332724</td>\n",
       "      <td>0.313899</td>\n",
       "    </tr>\n",
       "    <tr>\n",
       "      <th>2</th>\n",
       "      <td>0.326737</td>\n",
       "      <td>0.327611</td>\n",
       "      <td>0.327611</td>\n",
       "      <td>0.327611</td>\n",
       "      <td>0.327611</td>\n",
       "      <td>0.325101</td>\n",
       "      <td>0.325101</td>\n",
       "      <td>0.325101</td>\n",
       "      <td>0.325101</td>\n",
       "      <td>0.334898</td>\n",
       "    </tr>\n",
       "  </tbody>\n",
       "</table>\n",
       "</div>"
      ],
      "text/plain": [
       "          0         1         2         3         4         5         6  \\\n",
       "0  0.343019  0.341402  0.341402  0.341402  0.341402  0.342175  0.342175   \n",
       "1  0.330244  0.330987  0.330987  0.330987  0.330987  0.332724  0.332724   \n",
       "2  0.326737  0.327611  0.327611  0.327611  0.327611  0.325101  0.325101   \n",
       "\n",
       "          7         8         9  \n",
       "0  0.342175  0.342175  0.351203  \n",
       "1  0.332724  0.332724  0.313899  \n",
       "2  0.325101  0.325101  0.334898  "
      ]
     },
     "execution_count": 96,
     "metadata": {},
     "output_type": "execute_result"
    }
   ],
   "source": [
    "values[[0, 1, 2]].T"
   ]
  },
  {
   "cell_type": "code",
   "execution_count": 88,
   "metadata": {},
   "outputs": [],
   "source": [
    "value2 = partial_dependence.partial_dependence(gbes, target_variables=[0], grid_resolution=10, X=X_train)"
   ]
  },
  {
   "cell_type": "code",
   "execution_count": 97,
   "metadata": {},
   "outputs": [
    {
     "data": {
      "text/html": [
       "<div>\n",
       "<style scoped>\n",
       "    .dataframe tbody tr th:only-of-type {\n",
       "        vertical-align: middle;\n",
       "    }\n",
       "\n",
       "    .dataframe tbody tr th {\n",
       "        vertical-align: top;\n",
       "    }\n",
       "\n",
       "    .dataframe thead th {\n",
       "        text-align: right;\n",
       "    }\n",
       "</style>\n",
       "<table border=\"1\" class=\"dataframe\">\n",
       "  <thead>\n",
       "    <tr style=\"text-align: right;\">\n",
       "      <th></th>\n",
       "      <th>0</th>\n",
       "      <th>1</th>\n",
       "      <th>2</th>\n",
       "      <th>3</th>\n",
       "      <th>4</th>\n",
       "      <th>5</th>\n",
       "      <th>6</th>\n",
       "      <th>7</th>\n",
       "      <th>8</th>\n",
       "      <th>9</th>\n",
       "    </tr>\n",
       "  </thead>\n",
       "  <tbody>\n",
       "    <tr>\n",
       "      <th>0</th>\n",
       "      <td>-0.021333</td>\n",
       "      <td>-0.021333</td>\n",
       "      <td>-0.027041</td>\n",
       "      <td>-0.027041</td>\n",
       "      <td>-0.027041</td>\n",
       "      <td>-0.027041</td>\n",
       "      <td>-0.027041</td>\n",
       "      <td>-0.027041</td>\n",
       "      <td>-0.027041</td>\n",
       "      <td>-0.027041</td>\n",
       "    </tr>\n",
       "    <tr>\n",
       "      <th>1</th>\n",
       "      <td>-0.043498</td>\n",
       "      <td>-0.043498</td>\n",
       "      <td>-0.043498</td>\n",
       "      <td>-0.043498</td>\n",
       "      <td>-0.043498</td>\n",
       "      <td>-0.043498</td>\n",
       "      <td>-0.043498</td>\n",
       "      <td>-0.043498</td>\n",
       "      <td>-0.043498</td>\n",
       "      <td>-0.123083</td>\n",
       "    </tr>\n",
       "    <tr>\n",
       "      <th>2</th>\n",
       "      <td>-0.090783</td>\n",
       "      <td>-0.090783</td>\n",
       "      <td>-0.090783</td>\n",
       "      <td>-0.090783</td>\n",
       "      <td>-0.090783</td>\n",
       "      <td>-0.103075</td>\n",
       "      <td>-0.103075</td>\n",
       "      <td>-0.103075</td>\n",
       "      <td>-0.103075</td>\n",
       "      <td>-0.103075</td>\n",
       "    </tr>\n",
       "  </tbody>\n",
       "</table>\n",
       "</div>"
      ],
      "text/plain": [
       "          0         1         2         3         4         5         6  \\\n",
       "0 -0.021333 -0.021333 -0.027041 -0.027041 -0.027041 -0.027041 -0.027041   \n",
       "1 -0.043498 -0.043498 -0.043498 -0.043498 -0.043498 -0.043498 -0.043498   \n",
       "2 -0.090783 -0.090783 -0.090783 -0.090783 -0.090783 -0.103075 -0.103075   \n",
       "\n",
       "          7         8         9  \n",
       "0 -0.027041 -0.027041 -0.027041  \n",
       "1 -0.043498 -0.043498 -0.123083  \n",
       "2 -0.103075 -0.103075 -0.103075  "
      ]
     },
     "execution_count": 97,
     "metadata": {},
     "output_type": "execute_result"
    }
   ],
   "source": [
    "pd.DataFrame(value2[0])"
   ]
  },
  {
   "cell_type": "code",
   "execution_count": null,
   "metadata": {},
   "outputs": [],
   "source": []
  }
 ],
 "metadata": {
  "kernelspec": {
   "display_name": "Python 3",
   "language": "python",
   "name": "python3"
  },
  "language_info": {
   "codemirror_mode": {
    "name": "ipython",
    "version": 3
   },
   "file_extension": ".py",
   "mimetype": "text/x-python",
   "name": "python",
   "nbconvert_exporter": "python",
   "pygments_lexer": "ipython3",
   "version": "3.6.1"
  }
 },
 "nbformat": 4,
 "nbformat_minor": 2
}
