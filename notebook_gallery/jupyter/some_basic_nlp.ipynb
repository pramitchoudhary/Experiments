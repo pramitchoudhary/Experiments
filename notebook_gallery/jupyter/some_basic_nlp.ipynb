{
 "cells": [
  {
   "cell_type": "code",
   "execution_count": 2,
   "metadata": {
    "collapsed": true
   },
   "outputs": [],
   "source": [
    "# lets start with the nltk package\n",
    "from nltk.stem.snowball import SnowballStemmer\n",
    "import nltk"
   ]
  },
  {
   "cell_type": "markdown",
   "metadata": {},
   "source": [
    "### Stemming- Snowball, try Porter"
   ]
  },
  {
   "cell_type": "code",
   "execution_count": 3,
   "metadata": {
    "collapsed": true
   },
   "outputs": [],
   "source": [
    "# Create a language specific stemmer instance\n",
    "stemmer = SnowballStemmer(\"english\")"
   ]
  },
  {
   "cell_type": "code",
   "execution_count": 4,
   "metadata": {
    "collapsed": false
   },
   "outputs": [
    {
     "name": "stdout",
     "output_type": "stream",
     "text": [
      "running ---> run\n",
      "expedition ---> expedit\n",
      "resignation ---> resign\n",
      "Windows ---> window\n",
      "assination ---> assin\n"
     ]
    }
   ],
   "source": [
    "print('running ---> {}'.format(stemmer.stem(\"running\")))\n",
    "print('expedition ---> {}'.format(stemmer.stem(\"expedition\")))\n",
    "print('resignation ---> {}'.format(stemmer.stem(\"resignation\")))\n",
    "print('Windows ---> {}'.format(stemmer.stem(\"Windows\")))\n",
    "print('assination ---> {}'.format(stemmer.stem(\"assination\")))   "
   ]
  },
  {
   "cell_type": "markdown",
   "metadata": {},
   "source": [
    "### POS Tagging"
   ]
  },
  {
   "cell_type": "code",
   "execution_count": null,
   "metadata": {
    "collapsed": true
   },
   "outputs": [],
   "source": [
    "# A basic POS tagging\n",
    "from nltk import pos_tag, word_tokenize\n",
    "# sentence:\n",
    "sentence = \"Information Retrieval is the best course ever\"\n",
    "# 1. tokenize the words\n",
    "text = word_tokenize(sentence)\n",
    "# 2. Generate the Parts of Speech\n",
    "print(pos_tag(text))"
   ]
  },
  {
   "cell_type": "code",
   "execution_count": 23,
   "metadata": {
    "collapsed": false
   },
   "outputs": [
    {
     "name": "stdout",
     "output_type": "stream",
     "text": [
      "NN --> Noun\n",
      "NNP --> Proper Noun\n",
      "VBZ --> Verb\n",
      "DT --> Determiner\n",
      "JJS --> Adjective\n",
      "RB --> Adverb\n"
     ]
    }
   ],
   "source": [
    "print('NN --> {}'.format(\"Noun\"))\n",
    "print('NNP --> {}'.format(\"Proper Noun\"))\n",
    "print('VBZ --> {}'.format(\"Verb\"))\n",
    "print('DT --> {}'.format(\"Determiner\"))\n",
    "print('JJS --> {}'.format(\"Adjective\"))\n",
    "print('RB --> {}'.format(\"Adverb\"))"
   ]
  },
  {
   "cell_type": "markdown",
   "metadata": {
    "collapsed": true
   },
   "source": [
    "### Chunking:"
   ]
  },
  {
   "cell_type": "code",
   "execution_count": 6,
   "metadata": {
    "collapsed": false
   },
   "outputs": [],
   "source": [
    "sentence = [(\"the\", \"DT\"), (\"little\", \"JJ\"), (\"black\", \"JJ\"), (\"cat\", \"NN\"), (\"meowed\", \"VBD\"), \n",
    "            (\"at\", \"IN\"),  (\"the\", \"DT\"), (\"dog\", \"NN\")]\n",
    "# Lets define a simple grammar using regular experssions\n",
    "# Rule: \n",
    "## determiner (DT) is optional, it could be any number of adjectives (JJ) and a noun (NN)\n",
    "grammar = \"NP: {<DT>?<JJ>*<NN>}\"\n",
    "\n",
    "# Invoke the RegexParser and parse the sentence\n",
    "cp = nltk.RegexpParser(grammar)\n",
    "result = cp.parse(sentence)"
   ]
  },
  {
   "cell_type": "code",
   "execution_count": 14,
   "metadata": {
    "collapsed": false
   },
   "outputs": [
    {
     "name": "stdout",
     "output_type": "stream",
     "text": [
      "(S\n",
      "  (NP the/DT little/JJ black/JJ cat/NN)\n",
      "  meowed/VBD\n",
      "  at/IN\n",
      "  (NP the/DT dog/NN))\n"
     ]
    }
   ],
   "source": [
    "print(result)"
   ]
  }
 ],
 "metadata": {
  "kernelspec": {
   "display_name": "Python 2",
   "language": "python",
   "name": "python2"
  },
  "language_info": {
   "codemirror_mode": {
    "name": "ipython",
    "version": 2
   },
   "file_extension": ".py",
   "mimetype": "text/x-python",
   "name": "python",
   "nbconvert_exporter": "python",
   "pygments_lexer": "ipython2",
   "version": "2.7.6"
  }
 },
 "nbformat": 4,
 "nbformat_minor": 0
}
